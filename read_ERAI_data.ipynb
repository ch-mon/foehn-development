{
 "cells": [
  {
   "cell_type": "markdown",
   "metadata": {},
   "source": [
    "# Import packages"
   ]
  },
  {
   "cell_type": "code",
   "execution_count": 1,
   "metadata": {},
   "outputs": [],
   "source": [
    "import pandas as pd, numpy as np\n",
    "import dypy.netcdf as dn\n",
    "import dypy.intergrid as ig\n",
    "import seaborn as sns\n",
    "import matplotlib.pyplot as plt\n",
    "from scipy import ndimage\n",
    "import os\n",
    "import re"
   ]
  },
  {
   "cell_type": "markdown",
   "metadata": {},
   "source": [
    "# Define constants"
   ]
  },
  {
   "cell_type": "code",
   "execution_count": 2,
   "metadata": {},
   "outputs": [],
   "source": [
    "# W-E direction\n",
    "LON_MIN_ERA= 0\n",
    "LON_MAX_ERA = 15\n",
    "\n",
    "# S-N direction\n",
    "LAT_MIN_ERA= 42\n",
    "LAT_MAX_ERA = 50"
   ]
  },
  {
   "cell_type": "code",
   "execution_count": 3,
   "metadata": {},
   "outputs": [
    {
     "name": "stdout",
     "output_type": "stream",
     "text": [
      "lons: [ 0.    1.25  2.5   3.75  5.    6.25  7.5   8.75 10.   11.25 12.5  13.75\n",
      " 15.  ]\n",
      "lats: [42.87958115 43.82198953 44.76439791 45.70680628 46.64921466 47.59162304\n",
      " 48.53403141 49.47643979]\n",
      "[['4287', '0'], ['4287', '125'], ['4287', '250'], ['4287', '375'], ['4287', '500'], ['4287', '625'], ['4287', '750'], ['4287', '875'], ['4287', '1000'], ['4287', '1125'], ['4287', '1250'], ['4287', '1375'], ['4287', '1500'], ['4382', '0'], ['4382', '125'], ['4382', '250'], ['4382', '375'], ['4382', '500'], ['4382', '625'], ['4382', '750'], ['4382', '875'], ['4382', '1000'], ['4382', '1125'], ['4382', '1250'], ['4382', '1375'], ['4382', '1500'], ['4476', '0'], ['4476', '125'], ['4476', '250'], ['4476', '375'], ['4476', '500'], ['4476', '625'], ['4476', '750'], ['4476', '875'], ['4476', '1000'], ['4476', '1125'], ['4476', '1250'], ['4476', '1375'], ['4476', '1500'], ['4570', '0'], ['4570', '125'], ['4570', '250'], ['4570', '375'], ['4570', '500'], ['4570', '625'], ['4570', '750'], ['4570', '875'], ['4570', '1000'], ['4570', '1125'], ['4570', '1250'], ['4570', '1375'], ['4570', '1500'], ['4664', '0'], ['4664', '125'], ['4664', '250'], ['4664', '375'], ['4664', '500'], ['4664', '625'], ['4664', '750'], ['4664', '875'], ['4664', '1000'], ['4664', '1125'], ['4664', '1250'], ['4664', '1375'], ['4664', '1500'], ['4759', '0'], ['4759', '125'], ['4759', '250'], ['4759', '375'], ['4759', '500'], ['4759', '625'], ['4759', '750'], ['4759', '875'], ['4759', '1000'], ['4759', '1125'], ['4759', '1250'], ['4759', '1375'], ['4759', '1500'], ['4853', '0'], ['4853', '125'], ['4853', '250'], ['4853', '375'], ['4853', '500'], ['4853', '625'], ['4853', '750'], ['4853', '875'], ['4853', '1000'], ['4853', '1125'], ['4853', '1250'], ['4853', '1375'], ['4853', '1500'], ['4947', '0'], ['4947', '125'], ['4947', '250'], ['4947', '375'], ['4947', '500'], ['4947', '625'], ['4947', '750'], ['4947', '875'], ['4947', '1000'], ['4947', '1125'], ['4947', '1250'], ['4947', '1375'], ['4947', '1500']]\n"
     ]
    }
   ],
   "source": [
    "path = \"/net/litho/atmosdyn/INTEXseas/cesm/cesm112_LENS/b.e112.B20TRLENS.f09_g16.ethz.001/archive/atm/hist/b.e112.B20TRLENS.f09_g16.ethz.001.cam.h2.1990-01-01-21600.nc\"\n",
    "\n",
    "lons, lats = dn.read_var(path, [\"lon\", \"lat\"])\n",
    "\n",
    "xindex = np.where((lons >= LON_MIN_ERA) & (lons <= LON_MAX_ERA))[0]\n",
    "yindex = np.where((lats >= LAT_MIN_ERA) & (lats <= LAT_MAX_ERA))[0]\n",
    "print(\"lons: \" + str(lons[xindex]))\n",
    "print(\"lats: \" + str(lats[yindex]))\n",
    "\n",
    "xmin, xmax = xindex.min(), xindex.max()\n",
    "ymin, ymax = yindex.min(), yindex.max()\n",
    "\n",
    "index = np.s_[:, :, ymin:(ymax+1), xmin:(xmax+1)]\n",
    "\n",
    "lo = np.array([LAT_MIN_ERA, LON_MIN_ERA])\n",
    "hi = np.array([LAT_MAX_ERA, LON_MAX_ERA])\n",
    "\n",
    "QUERY_POINTS = [[lat, lon] for lat in lats[yindex] for lon in lons[xindex]]\n",
    "QUERY_POINTS_LABELS = [[str(int(100*query_point[0])), str(int(100*query_point[1]))] for query_point in QUERY_POINTS]\n",
    "print(QUERY_POINTS_LABELS)"
   ]
  },
  {
   "cell_type": "markdown",
   "metadata": {},
   "source": [
    "# Define functions"
   ]
  },
  {
   "cell_type": "code",
   "execution_count": 4,
   "metadata": {},
   "outputs": [],
   "source": [
    "def get_interpolated_variables(grid_values, index_level):\n",
    "    grid_values_cut = grid_values[index_level][(LAT_MIN_ERA+90):(LAT_MAX_ERA+90+1),(180+LON_MIN_ERA):(180+LON_MAX_ERA+1)]\n",
    "    interfunc = ig.Intergrid(grid_values_cut, lo=lo, hi=hi, verbose = False)\n",
    "    return interfunc(QUERY_POINTS) "
   ]
  },
  {
   "cell_type": "markdown",
   "metadata": {},
   "source": [
    "# Recursively get all relevant file paths"
   ]
  },
  {
   "cell_type": "code",
   "execution_count": 5,
   "metadata": {},
   "outputs": [],
   "source": [
    "rootdir = \"/net/bio/atmosdyn/erainterim/cdf/\"\n",
    "relevant_file_paths = []\n",
    "for root, subdirs, files in os.walk(rootdir):\n",
    "    if len(root.split(\"/\")) == 8:\n",
    "        if (root.split(\"/\")[6] != \"1979\"):\n",
    "            regex = re.compile('P\\w+')\n",
    "            relevant_file_paths_local = [os.path.join(root, netcdf_file) for netcdf_file in files if regex.match(netcdf_file) ]\n",
    "            relevant_file_paths.extend(relevant_file_paths_local)"
   ]
  },
  {
   "cell_type": "markdown",
   "metadata": {},
   "source": [
    "# Read in all relevant ERAI files"
   ]
  },
  {
   "cell_type": "code",
   "execution_count": 6,
   "metadata": {},
   "outputs": [
    {
     "name": "stdout",
     "output_type": "stream",
     "text": [
      "1769\n"
     ]
    }
   ],
   "source": [
    "feature_list_names =[\"date\"]\n",
    "feature_list_names.extend([f\"SLP_{query_point[0]}_{query_point[1]}_sealevel\" for query_point in QUERY_POINTS_LABELS])\n",
    "feature_list_names.extend([f\"T_{query_point[0]}_{query_point[1]}_900\" for query_point in QUERY_POINTS_LABELS])\n",
    "for pressure_level in [\"850\", \"700\", \"500\"]:\n",
    "    for variable in ['Z','T','Q','U','V']:\n",
    "        feature_list_names.extend([f\"{variable}_{query_point[0]}_{query_point[1]}_{pressure_level}\" for query_point in QUERY_POINTS_LABELS])\n",
    "print(len(feature_list_names))"
   ]
  },
  {
   "cell_type": "code",
   "execution_count": null,
   "metadata": {},
   "outputs": [],
   "source": [
    "def parallelize_reading():\n",
    "    "
   ]
  },
  {
   "cell_type": "code",
   "execution_count": 7,
   "metadata": {},
   "outputs": [
    {
     "name": "stdout",
     "output_type": "stream",
     "text": [
      "/net/bio/atmosdyn/erainterim/cdf/1980/06/P19800607_00\r"
     ]
    },
    {
     "ename": "KeyboardInterrupt",
     "evalue": "",
     "output_type": "error",
     "traceback": [
      "\u001b[0;31m---------------------------------------------------------------------------\u001b[0m",
      "\u001b[0;31mKeyboardInterrupt\u001b[0m                         Traceback (most recent call last)",
      "\u001b[0;32m<ipython-input-7-89335efdc60d>\u001b[0m in \u001b[0;36m<module>\u001b[0;34m\u001b[0m\n\u001b[1;32m      4\u001b[0m     \u001b[0mfeature_list\u001b[0m \u001b[0;34m=\u001b[0m \u001b[0;34m[\u001b[0m\u001b[0mfile_path\u001b[0m\u001b[0;34m[\u001b[0m\u001b[0;34m-\u001b[0m\u001b[0;36m11\u001b[0m\u001b[0;34m:\u001b[0m\u001b[0;34m]\u001b[0m\u001b[0;34m]\u001b[0m \u001b[0;31m# Get datetime string\u001b[0m\u001b[0;34m\u001b[0m\u001b[0;34m\u001b[0m\u001b[0m\n\u001b[1;32m      5\u001b[0m \u001b[0;34m\u001b[0m\u001b[0m\n\u001b[0;32m----> 6\u001b[0;31m     \u001b[0mSLP\u001b[0m\u001b[0;34m,\u001b[0m \u001b[0;34m=\u001b[0m \u001b[0mdn\u001b[0m\u001b[0;34m.\u001b[0m\u001b[0mread_var\u001b[0m\u001b[0;34m(\u001b[0m\u001b[0mfile_path\u001b[0m\u001b[0;34m,\u001b[0m \u001b[0;34m[\u001b[0m\u001b[0;34m'SLP'\u001b[0m\u001b[0;34m]\u001b[0m\u001b[0;34m)\u001b[0m\u001b[0;34m\u001b[0m\u001b[0;34m\u001b[0m\u001b[0m\n\u001b[0m\u001b[1;32m      7\u001b[0m \u001b[0;34m\u001b[0m\u001b[0m\n\u001b[1;32m      8\u001b[0m     \u001b[0mfeature_list\u001b[0m\u001b[0;34m.\u001b[0m\u001b[0mextend\u001b[0m\u001b[0;34m(\u001b[0m\u001b[0mget_interpolated_variables\u001b[0m\u001b[0;34m(\u001b[0m\u001b[0mgrid_values\u001b[0m\u001b[0;34m=\u001b[0m\u001b[0mnp\u001b[0m\u001b[0;34m.\u001b[0m\u001b[0mexpand_dims\u001b[0m\u001b[0;34m(\u001b[0m\u001b[0mSLP\u001b[0m\u001b[0;34m,\u001b[0m\u001b[0;36m0\u001b[0m\u001b[0;34m)\u001b[0m\u001b[0;34m,\u001b[0m \u001b[0mindex_level\u001b[0m\u001b[0;34m=\u001b[0m\u001b[0;36m0\u001b[0m\u001b[0;34m)\u001b[0m\u001b[0;34m)\u001b[0m\u001b[0;34m\u001b[0m\u001b[0;34m\u001b[0m\u001b[0m\n",
      "\u001b[0;32m~/Apps/anaconda3/envs/develop_test/lib/python3.7/site-packages/dypy/netcdf.py\u001b[0m in \u001b[0;36mread_var\u001b[0;34m(filename, variables, index, **kwargs)\u001b[0m\n\u001b[1;32m     63\u001b[0m     \u001b[0;32mtry\u001b[0m\u001b[0;34m:\u001b[0m\u001b[0;34m\u001b[0m\u001b[0;34m\u001b[0m\u001b[0m\n\u001b[1;32m     64\u001b[0m         \u001b[0;32mwith\u001b[0m \u001b[0mnetCDF4\u001b[0m\u001b[0;34m.\u001b[0m\u001b[0mMFDataset\u001b[0m\u001b[0;34m(\u001b[0m\u001b[0mfilename\u001b[0m\u001b[0;34m,\u001b[0m \u001b[0;34m**\u001b[0m\u001b[0mkwargs\u001b[0m\u001b[0;34m)\u001b[0m \u001b[0;32mas\u001b[0m \u001b[0mncfile\u001b[0m\u001b[0;34m:\u001b[0m\u001b[0;34m\u001b[0m\u001b[0;34m\u001b[0m\u001b[0m\n\u001b[0;32m---> 65\u001b[0;31m             \u001b[0mvararray\u001b[0m \u001b[0;34m=\u001b[0m \u001b[0m_extract_from_netcdf\u001b[0m\u001b[0;34m(\u001b[0m\u001b[0mncfile\u001b[0m\u001b[0;34m,\u001b[0m \u001b[0mvariables\u001b[0m\u001b[0;34m,\u001b[0m \u001b[0mindex\u001b[0m\u001b[0;34m)\u001b[0m\u001b[0;34m\u001b[0m\u001b[0;34m\u001b[0m\u001b[0m\n\u001b[0m\u001b[1;32m     66\u001b[0m     \u001b[0;32mexcept\u001b[0m \u001b[0mOSError\u001b[0m \u001b[0;32mas\u001b[0m \u001b[0merr\u001b[0m\u001b[0;34m:\u001b[0m\u001b[0;34m\u001b[0m\u001b[0;34m\u001b[0m\u001b[0m\n\u001b[1;32m     67\u001b[0m         \u001b[0;32mif\u001b[0m \u001b[0mlen\u001b[0m\u001b[0;34m(\u001b[0m\u001b[0mfilename\u001b[0m\u001b[0;34m)\u001b[0m \u001b[0;34m==\u001b[0m \u001b[0;36m1\u001b[0m\u001b[0;34m:\u001b[0m\u001b[0;34m\u001b[0m\u001b[0;34m\u001b[0m\u001b[0m\n",
      "\u001b[0;32m~/Apps/anaconda3/envs/develop_test/lib/python3.7/site-packages/dypy/netcdf.py\u001b[0m in \u001b[0;36m_extract_from_netcdf\u001b[0;34m(ncfile, variables, index)\u001b[0m\n\u001b[1;32m     96\u001b[0m             \u001b[0;32melse\u001b[0m\u001b[0;34m:\u001b[0m\u001b[0;34m\u001b[0m\u001b[0;34m\u001b[0m\u001b[0m\n\u001b[1;32m     97\u001b[0m                 \u001b[0mnindex\u001b[0m \u001b[0;34m=\u001b[0m \u001b[0mindex\u001b[0m\u001b[0;34m\u001b[0m\u001b[0;34m\u001b[0m\u001b[0m\n\u001b[0;32m---> 98\u001b[0;31m             \u001b[0mvardata\u001b[0m \u001b[0;34m=\u001b[0m \u001b[0mncfile\u001b[0m\u001b[0;34m.\u001b[0m\u001b[0mvariables\u001b[0m\u001b[0;34m[\u001b[0m\u001b[0mvar\u001b[0m\u001b[0;34m]\u001b[0m\u001b[0;34m[\u001b[0m\u001b[0mnindex\u001b[0m\u001b[0;34m]\u001b[0m\u001b[0;34m\u001b[0m\u001b[0;34m\u001b[0m\u001b[0m\n\u001b[0m\u001b[1;32m     99\u001b[0m         \u001b[0mvararray\u001b[0m\u001b[0;34m.\u001b[0m\u001b[0mappend\u001b[0m\u001b[0;34m(\u001b[0m\u001b[0mvardata\u001b[0m\u001b[0;34m.\u001b[0m\u001b[0msqueeze\u001b[0m\u001b[0;34m(\u001b[0m\u001b[0;34m)\u001b[0m\u001b[0;34m)\u001b[0m\u001b[0;34m\u001b[0m\u001b[0;34m\u001b[0m\u001b[0m\n\u001b[1;32m    100\u001b[0m     \u001b[0;32mreturn\u001b[0m \u001b[0mvararray\u001b[0m\u001b[0;34m\u001b[0m\u001b[0;34m\u001b[0m\u001b[0m\n",
      "\u001b[0;32mnetCDF4/_netCDF4.pyx\u001b[0m in \u001b[0;36mnetCDF4._netCDF4._Variable.__getitem__\u001b[0;34m()\u001b[0m\n",
      "\u001b[0;32mnetCDF4/_netCDF4.pyx\u001b[0m in \u001b[0;36mnetCDF4._netCDF4.Variable.__getitem__\u001b[0;34m()\u001b[0m\n",
      "\u001b[0;32mnetCDF4/_netCDF4.pyx\u001b[0m in \u001b[0;36mnetCDF4._netCDF4.Variable._toma\u001b[0;34m()\u001b[0m\n",
      "\u001b[0;32mnetCDF4/_netCDF4.pyx\u001b[0m in \u001b[0;36mnetCDF4._netCDF4.Variable._check_safecast\u001b[0;34m()\u001b[0m\n",
      "\u001b[0;32m~/Apps/anaconda3/envs/develop_test/lib/python3.7/site-packages/netCDF4/utils.py\u001b[0m in \u001b[0;36m_safecast\u001b[0;34m(a, b)\u001b[0m\n\u001b[1;32m     22\u001b[0m     \u001b[0mbytes\u001b[0m \u001b[0;34m=\u001b[0m \u001b[0mstr\u001b[0m\u001b[0;34m\u001b[0m\u001b[0;34m\u001b[0m\u001b[0m\n\u001b[1;32m     23\u001b[0m \u001b[0;34m\u001b[0m\u001b[0m\n\u001b[0;32m---> 24\u001b[0;31m \u001b[0;32mdef\u001b[0m \u001b[0m_safecast\u001b[0m\u001b[0;34m(\u001b[0m\u001b[0ma\u001b[0m\u001b[0;34m,\u001b[0m\u001b[0mb\u001b[0m\u001b[0;34m)\u001b[0m\u001b[0;34m:\u001b[0m\u001b[0;34m\u001b[0m\u001b[0;34m\u001b[0m\u001b[0m\n\u001b[0m\u001b[1;32m     25\u001b[0m     \u001b[0;31m# check to see if array a can be safely cast\u001b[0m\u001b[0;34m\u001b[0m\u001b[0;34m\u001b[0m\u001b[0;34m\u001b[0m\u001b[0m\n\u001b[1;32m     26\u001b[0m     \u001b[0;31m# to array b.  A little less picky than numpy.can_cast.\u001b[0m\u001b[0;34m\u001b[0m\u001b[0;34m\u001b[0m\u001b[0;34m\u001b[0m\u001b[0m\n",
      "\u001b[0;31mKeyboardInterrupt\u001b[0m: "
     ]
    }
   ],
   "source": [
    "rows_list=[]\n",
    "for file_path in relevant_file_paths:\n",
    "    print(file_path, end=\"\\r\")\n",
    "    feature_list = [file_path[-11:]] # Get datetime string\n",
    "    \n",
    "    SLP, = dn.read_var(file_path, ['SLP'])\n",
    "\n",
    "    feature_list.extend(get_interpolated_variables(grid_values=np.expand_dims(SLP,0), index_level=0))\n",
    "    \n",
    "    # Switch to corresponding Z file\n",
    "    file_path = file_path.replace(\"P\", \"Z\")\n",
    "    \n",
    "    Z,T,Q,U,V = dn.read_var(file_path, ['Z','T','Q','U','V'])\n",
    "    \n",
    "    feature_list.extend(get_interpolated_variables(grid_values=T, index_level=0))\n",
    "\n",
    "    for index, pressure_level in {1: \"850\", 3: \"700\", 5: \"500\"}.items():\n",
    "        \n",
    "        feature_list.extend(get_interpolated_variables(grid_values=Z, index_level=index))\n",
    "        feature_list.extend(get_interpolated_variables(grid_values=T, index_level=index))\n",
    "        feature_list.extend(get_interpolated_variables(grid_values=Q, index_level=index))\n",
    "        feature_list.extend(get_interpolated_variables(grid_values=U, index_level=index))\n",
    "        feature_list.extend(get_interpolated_variables(grid_values=V, index_level=index))\n",
    "        \n",
    "    rows_list.append(feature_list)\n",
    "    \n",
    "df = pd.DataFrame(rows_list, columns=feature_list_names)\n",
    "df[\"date\"] = pd.to_datetime(df[\"date\"], format='%Y%m%d_%H')\n",
    "df.head()"
   ]
  },
  {
   "cell_type": "code",
   "execution_count": null,
   "metadata": {},
   "outputs": [],
   "source": [
    "# Write recipe outputs\n",
    "df.to_csv(\"/net/litho/atmosdyn2/chmony/data/MeteorologicalData/ERAI_data.csv.gz\", index=False)"
   ]
  }
 ],
 "metadata": {
  "kernelspec": {
   "display_name": "Python 3",
   "language": "python",
   "name": "python3"
  },
  "language_info": {
   "codemirror_mode": {
    "name": "ipython",
    "version": 3
   },
   "file_extension": ".py",
   "mimetype": "text/x-python",
   "name": "python",
   "nbconvert_exporter": "python",
   "pygments_lexer": "ipython3",
   "version": "3.7.6"
  }
 },
 "nbformat": 4,
 "nbformat_minor": 4
}
