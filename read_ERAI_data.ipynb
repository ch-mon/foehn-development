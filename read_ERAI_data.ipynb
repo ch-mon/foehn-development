{
 "cells": [
  {
   "cell_type": "markdown",
   "metadata": {},
   "source": [
    "# Import packages"
   ]
  },
  {
   "cell_type": "code",
   "execution_count": 1,
   "metadata": {},
   "outputs": [],
   "source": [
    "import pandas as pd, numpy as np\n",
    "import dypy.netcdf as dn\n",
    "import dypy.intergrid as ig\n",
    "import seaborn as sns\n",
    "import matplotlib.pyplot as plt\n",
    "from scipy import ndimage\n",
    "import os\n",
    "import re"
   ]
  },
  {
   "cell_type": "markdown",
   "metadata": {},
   "source": [
    "# Define constants"
   ]
  },
  {
   "cell_type": "code",
   "execution_count": 2,
   "metadata": {},
   "outputs": [],
   "source": [
    "# W-E direction\n",
    "LON_MIN_ERA= 0\n",
    "LON_MAX_ERA = 15\n",
    "\n",
    "# S-N direction\n",
    "LAT_MIN_ERA= 42\n",
    "LAT_MAX_ERA = 50"
   ]
  },
  {
   "cell_type": "code",
   "execution_count": 3,
   "metadata": {},
   "outputs": [
    {
     "name": "stdout",
     "output_type": "stream",
     "text": [
      "xindex: [ 0  1  2  3  4  5  6  7  8  9 10 11 12]\n",
      "lons: [ 0.    1.25  2.5   3.75  5.    6.25  7.5   8.75 10.   11.25 12.5  13.75\n",
      " 15.  ]\n",
      "yindex: [141 142 143 144 145 146 147 148]\n",
      "lats: [42.87958115 43.82198953 44.76439791 45.70680628 46.64921466 47.59162304\n",
      " 48.53403141 49.47643979]\n",
      "xmin: 0\n",
      "xmax: 12\n",
      "ymin: 141\n",
      "ymax: 148\n",
      "[['4287', '0'], ['4287', '125'], ['4287', '250'], ['4287', '375'], ['4287', '500'], ['4287', '625'], ['4287', '750'], ['4287', '875'], ['4287', '1000'], ['4287', '1125'], ['4287', '1250'], ['4287', '1375'], ['4287', '1500'], ['4382', '0'], ['4382', '125'], ['4382', '250'], ['4382', '375'], ['4382', '500'], ['4382', '625'], ['4382', '750'], ['4382', '875'], ['4382', '1000'], ['4382', '1125'], ['4382', '1250'], ['4382', '1375'], ['4382', '1500'], ['4476', '0'], ['4476', '125'], ['4476', '250'], ['4476', '375'], ['4476', '500'], ['4476', '625'], ['4476', '750'], ['4476', '875'], ['4476', '1000'], ['4476', '1125'], ['4476', '1250'], ['4476', '1375'], ['4476', '1500'], ['4570', '0'], ['4570', '125'], ['4570', '250'], ['4570', '375'], ['4570', '500'], ['4570', '625'], ['4570', '750'], ['4570', '875'], ['4570', '1000'], ['4570', '1125'], ['4570', '1250'], ['4570', '1375'], ['4570', '1500'], ['4664', '0'], ['4664', '125'], ['4664', '250'], ['4664', '375'], ['4664', '500'], ['4664', '625'], ['4664', '750'], ['4664', '875'], ['4664', '1000'], ['4664', '1125'], ['4664', '1250'], ['4664', '1375'], ['4664', '1500'], ['4759', '0'], ['4759', '125'], ['4759', '250'], ['4759', '375'], ['4759', '500'], ['4759', '625'], ['4759', '750'], ['4759', '875'], ['4759', '1000'], ['4759', '1125'], ['4759', '1250'], ['4759', '1375'], ['4759', '1500'], ['4853', '0'], ['4853', '125'], ['4853', '250'], ['4853', '375'], ['4853', '500'], ['4853', '625'], ['4853', '750'], ['4853', '875'], ['4853', '1000'], ['4853', '1125'], ['4853', '1250'], ['4853', '1375'], ['4853', '1500'], ['4947', '0'], ['4947', '125'], ['4947', '250'], ['4947', '375'], ['4947', '500'], ['4947', '625'], ['4947', '750'], ['4947', '875'], ['4947', '1000'], ['4947', '1125'], ['4947', '1250'], ['4947', '1375'], ['4947', '1500']]\n"
     ]
    }
   ],
   "source": [
    "path = \"/net/litho/atmosdyn/INTEXseas/cesm/cesm112_LENS/b.e112.B20TRLENS.f09_g16.ethz.001/archive/atm/hist/b.e112.B20TRLENS.f09_g16.ethz.001.cam.h2.1990-01-01-21600.nc\"\n",
    "\n",
    "lons, lats = dn.read_var(path, [\"lon\", \"lat\"])\n",
    "\n",
    "xindex = np.where((lons >= LON_MIN_ERA) & (lons <= LON_MAX_ERA))[0]\n",
    "print(\"xindex: \" + str(xindex))\n",
    "print(\"lons: \" + str(lons[xindex]))\n",
    "yindex = np.where((lats >= LAT_MIN_ERA) & (lats <= LAT_MAX_ERA))[0]\n",
    "print(\"yindex: \" + str(yindex))\n",
    "print(\"lats: \" + str(lats[yindex]))\n",
    "xmin, xmax = xindex.min(), xindex.max()\n",
    "print(\"xmin: \" + str(xmin))\n",
    "print(\"xmax: \" + str(xmax))\n",
    "ymin, ymax = yindex.min(), yindex.max()\n",
    "print(\"ymin: \" + str(ymin))\n",
    "print(\"ymax: \" + str(ymax))\n",
    "\n",
    "index = np.s_[:, :, ymin:(ymax+1), xmin:(xmax+1)]\n",
    "\n",
    "lo = np.array([LAT_MIN_ERA, LON_MIN_ERA])\n",
    "hi = np.array([LAT_MAX_ERA, LON_MAX_ERA])\n",
    "\n",
    "query_points = [[lat, lon] for lat in lats[yindex] for lon in lons[xindex]]\n",
    "query_points_labels = [[str(int(100*query_point[0])), str(int(100*query_point[1]))] for query_point in query_points]\n",
    "print(query_points_labels)"
   ]
  },
  {
   "cell_type": "markdown",
   "metadata": {},
   "source": [
    "# Define functions"
   ]
  },
  {
   "cell_type": "code",
   "execution_count": 4,
   "metadata": {},
   "outputs": [],
   "source": [
    "def create_heatmap(grid, lats, lons, annot_bool=False):\n",
    "    df = pd.DataFrame(grid, index=lats, columns=lons)\n",
    "\n",
    "    fig = plt.figure(figsize=(15,9))\n",
    "    sns.heatmap(df, annot=annot_bool)\n",
    "\n",
    "    # Due to bug in matplotlib\n",
    "    b, t = plt.ylim()\n",
    "    b += 0.5\n",
    "    t -= 0.5\n",
    "    plt.ylim(b, t)\n",
    "\n",
    "    plt.show()"
   ]
  },
  {
   "cell_type": "markdown",
   "metadata": {},
   "source": [
    "# Recursively get all relevant file paths"
   ]
  },
  {
   "cell_type": "code",
   "execution_count": 5,
   "metadata": {},
   "outputs": [],
   "source": [
    "rootdir = \"/net/bio/atmosdyn/erainterim/cdf/\"\n",
    "relevant_file_paths = []\n",
    "for root, subdirs, files in os.walk(rootdir):\n",
    "    if len(root.split(\"/\")) == 8:\n",
    "        if (root.split(\"/\")[6] != \"1979\") & (root.split(\"/\")[6] != \"1980\") :\n",
    "            regex = re.compile('P\\w+')\n",
    "            relevant_file_paths_local = [os.path.join(root, netcdf_file) for netcdf_file in files if regex.match(netcdf_file) ]\n",
    "            relevant_file_paths.extend(relevant_file_paths_local)"
   ]
  },
  {
   "cell_type": "markdown",
   "metadata": {},
   "source": [
    "# Read in all relevant ERAI files"
   ]
  },
  {
   "cell_type": "code",
   "execution_count": 6,
   "metadata": {},
   "outputs": [],
   "source": [
    "def get_interpolated_variables(grid_values, variable, index_level, pressure_level):\n",
    "    grid_values_cut = grid_values[index_level][(LAT_MIN_ERA+90):(LAT_MAX_ERA+90+1),(180+LON_MIN_ERA):(180+LON_MAX_ERA+1)]\n",
    "    interfunc = ig.Intergrid(grid_values_cut, lo=lo, hi=hi, verbose = False)\n",
    "    query_values = interfunc(query_points)\n",
    "    \n",
    "#     feature_names = [f\"{variable}_{query_point[0]}_{query_point[1]}_{pressure_level}\" for query_point in query_points_labels]\n",
    "    return query_values #zip(feature_names, query_values)"
   ]
  },
  {
   "cell_type": "code",
   "execution_count": 7,
   "metadata": {},
   "outputs": [
    {
     "name": "stdout",
     "output_type": "stream",
     "text": [
      "1769\n"
     ]
    }
   ],
   "source": [
    "feature_list_names =[\"date\"]\n",
    "feature_list_names.extend([f\"SLP_{query_point[0]}_{query_point[1]}_sealevel\" for query_point in query_points_labels])\n",
    "feature_list_names.extend([f\"T_{query_point[0]}_{query_point[1]}_900\" for query_point in query_points_labels])\n",
    "for pressure_level in [\"850\", \"700\", \"500\"]:\n",
    "    for variable in ['Z','T','Q','U','V']:\n",
    "        feature_list_names.extend([f\"{variable}_{query_point[0]}_{query_point[1]}_{pressure_level}\" for query_point in query_points_labels])\n",
    "print(len(feature_list_names))"
   ]
  },
  {
   "cell_type": "code",
   "execution_count": 8,
   "metadata": {},
   "outputs": [
    {
     "name": "stdout",
     "output_type": "stream",
     "text": [
      "/net/bio/atmosdyn/erainterim/cdf/1981/01/P19810101_00\r",
      "<class 'numpy.ndarray'>\n"
     ]
    },
    {
     "ename": "KeyError",
     "evalue": "'date'",
     "output_type": "error",
     "traceback": [
      "\u001b[0;31m---------------------------------------------------------------------------\u001b[0m",
      "\u001b[0;31mKeyError\u001b[0m                                  Traceback (most recent call last)",
      "\u001b[0;32m~/Apps/anaconda3/envs/develop_test/lib/python3.7/site-packages/pandas/core/indexes/base.py\u001b[0m in \u001b[0;36mget_loc\u001b[0;34m(self, key, method, tolerance)\u001b[0m\n\u001b[1;32m   3077\u001b[0m             \u001b[0;32mtry\u001b[0m\u001b[0;34m:\u001b[0m\u001b[0;34m\u001b[0m\u001b[0;34m\u001b[0m\u001b[0m\n\u001b[0;32m-> 3078\u001b[0;31m                 \u001b[0;32mreturn\u001b[0m \u001b[0mself\u001b[0m\u001b[0;34m.\u001b[0m\u001b[0m_engine\u001b[0m\u001b[0;34m.\u001b[0m\u001b[0mget_loc\u001b[0m\u001b[0;34m(\u001b[0m\u001b[0mkey\u001b[0m\u001b[0;34m)\u001b[0m\u001b[0;34m\u001b[0m\u001b[0;34m\u001b[0m\u001b[0m\n\u001b[0m\u001b[1;32m   3079\u001b[0m             \u001b[0;32mexcept\u001b[0m \u001b[0mKeyError\u001b[0m\u001b[0;34m:\u001b[0m\u001b[0;34m\u001b[0m\u001b[0;34m\u001b[0m\u001b[0m\n",
      "\u001b[0;32mpandas/_libs/index.pyx\u001b[0m in \u001b[0;36mpandas._libs.index.IndexEngine.get_loc\u001b[0;34m()\u001b[0m\n",
      "\u001b[0;32mpandas/_libs/index.pyx\u001b[0m in \u001b[0;36mpandas._libs.index.IndexEngine.get_loc\u001b[0;34m()\u001b[0m\n",
      "\u001b[0;32mpandas/_libs/hashtable_class_helper.pxi\u001b[0m in \u001b[0;36mpandas._libs.hashtable.PyObjectHashTable.get_item\u001b[0;34m()\u001b[0m\n",
      "\u001b[0;32mpandas/_libs/hashtable_class_helper.pxi\u001b[0m in \u001b[0;36mpandas._libs.hashtable.PyObjectHashTable.get_item\u001b[0;34m()\u001b[0m\n",
      "\u001b[0;31mKeyError\u001b[0m: 'date'",
      "\nDuring handling of the above exception, another exception occurred:\n",
      "\u001b[0;31mKeyError\u001b[0m                                  Traceback (most recent call last)",
      "\u001b[0;32m<ipython-input-8-5c7d7c5687d8>\u001b[0m in \u001b[0;36m<module>\u001b[0;34m\u001b[0m\n\u001b[1;32m     91\u001b[0m \u001b[0;34m\u001b[0m\u001b[0m\n\u001b[1;32m     92\u001b[0m \u001b[0mdf\u001b[0m \u001b[0;34m=\u001b[0m \u001b[0mpd\u001b[0m\u001b[0;34m.\u001b[0m\u001b[0mDataFrame\u001b[0m\u001b[0;34m(\u001b[0m\u001b[0mrows_list\u001b[0m\u001b[0;34m)\u001b[0m\u001b[0;34m\u001b[0m\u001b[0;34m\u001b[0m\u001b[0m\n\u001b[0;32m---> 93\u001b[0;31m \u001b[0mdf\u001b[0m\u001b[0;34m[\u001b[0m\u001b[0;34m\"date\"\u001b[0m\u001b[0;34m]\u001b[0m \u001b[0;34m=\u001b[0m \u001b[0mpd\u001b[0m\u001b[0;34m.\u001b[0m\u001b[0mto_datetime\u001b[0m\u001b[0;34m(\u001b[0m\u001b[0mdf\u001b[0m\u001b[0;34m[\u001b[0m\u001b[0;34m\"date\"\u001b[0m\u001b[0;34m]\u001b[0m\u001b[0;34m,\u001b[0m \u001b[0mformat\u001b[0m\u001b[0;34m=\u001b[0m\u001b[0;34m'%Y%m%d_%H'\u001b[0m\u001b[0;34m)\u001b[0m\u001b[0;34m\u001b[0m\u001b[0;34m\u001b[0m\u001b[0m\n\u001b[0m\u001b[1;32m     94\u001b[0m \u001b[0mdf\u001b[0m\u001b[0;34m.\u001b[0m\u001b[0mtail\u001b[0m\u001b[0;34m(\u001b[0m\u001b[0;34m)\u001b[0m\u001b[0;34m\u001b[0m\u001b[0;34m\u001b[0m\u001b[0m\n",
      "\u001b[0;32m~/Apps/anaconda3/envs/develop_test/lib/python3.7/site-packages/pandas/core/frame.py\u001b[0m in \u001b[0;36m__getitem__\u001b[0;34m(self, key)\u001b[0m\n\u001b[1;32m   2686\u001b[0m             \u001b[0;32mreturn\u001b[0m \u001b[0mself\u001b[0m\u001b[0;34m.\u001b[0m\u001b[0m_getitem_multilevel\u001b[0m\u001b[0;34m(\u001b[0m\u001b[0mkey\u001b[0m\u001b[0;34m)\u001b[0m\u001b[0;34m\u001b[0m\u001b[0;34m\u001b[0m\u001b[0m\n\u001b[1;32m   2687\u001b[0m         \u001b[0;32melse\u001b[0m\u001b[0;34m:\u001b[0m\u001b[0;34m\u001b[0m\u001b[0;34m\u001b[0m\u001b[0m\n\u001b[0;32m-> 2688\u001b[0;31m             \u001b[0;32mreturn\u001b[0m \u001b[0mself\u001b[0m\u001b[0;34m.\u001b[0m\u001b[0m_getitem_column\u001b[0m\u001b[0;34m(\u001b[0m\u001b[0mkey\u001b[0m\u001b[0;34m)\u001b[0m\u001b[0;34m\u001b[0m\u001b[0;34m\u001b[0m\u001b[0m\n\u001b[0m\u001b[1;32m   2689\u001b[0m \u001b[0;34m\u001b[0m\u001b[0m\n\u001b[1;32m   2690\u001b[0m     \u001b[0;32mdef\u001b[0m \u001b[0m_getitem_column\u001b[0m\u001b[0;34m(\u001b[0m\u001b[0mself\u001b[0m\u001b[0;34m,\u001b[0m \u001b[0mkey\u001b[0m\u001b[0;34m)\u001b[0m\u001b[0;34m:\u001b[0m\u001b[0;34m\u001b[0m\u001b[0;34m\u001b[0m\u001b[0m\n",
      "\u001b[0;32m~/Apps/anaconda3/envs/develop_test/lib/python3.7/site-packages/pandas/core/frame.py\u001b[0m in \u001b[0;36m_getitem_column\u001b[0;34m(self, key)\u001b[0m\n\u001b[1;32m   2693\u001b[0m         \u001b[0;31m# get column\u001b[0m\u001b[0;34m\u001b[0m\u001b[0;34m\u001b[0m\u001b[0;34m\u001b[0m\u001b[0m\n\u001b[1;32m   2694\u001b[0m         \u001b[0;32mif\u001b[0m \u001b[0mself\u001b[0m\u001b[0;34m.\u001b[0m\u001b[0mcolumns\u001b[0m\u001b[0;34m.\u001b[0m\u001b[0mis_unique\u001b[0m\u001b[0;34m:\u001b[0m\u001b[0;34m\u001b[0m\u001b[0;34m\u001b[0m\u001b[0m\n\u001b[0;32m-> 2695\u001b[0;31m             \u001b[0;32mreturn\u001b[0m \u001b[0mself\u001b[0m\u001b[0;34m.\u001b[0m\u001b[0m_get_item_cache\u001b[0m\u001b[0;34m(\u001b[0m\u001b[0mkey\u001b[0m\u001b[0;34m)\u001b[0m\u001b[0;34m\u001b[0m\u001b[0;34m\u001b[0m\u001b[0m\n\u001b[0m\u001b[1;32m   2696\u001b[0m \u001b[0;34m\u001b[0m\u001b[0m\n\u001b[1;32m   2697\u001b[0m         \u001b[0;31m# duplicate columns & possible reduce dimensionality\u001b[0m\u001b[0;34m\u001b[0m\u001b[0;34m\u001b[0m\u001b[0;34m\u001b[0m\u001b[0m\n",
      "\u001b[0;32m~/Apps/anaconda3/envs/develop_test/lib/python3.7/site-packages/pandas/core/generic.py\u001b[0m in \u001b[0;36m_get_item_cache\u001b[0;34m(self, item)\u001b[0m\n\u001b[1;32m   2487\u001b[0m         \u001b[0mres\u001b[0m \u001b[0;34m=\u001b[0m \u001b[0mcache\u001b[0m\u001b[0;34m.\u001b[0m\u001b[0mget\u001b[0m\u001b[0;34m(\u001b[0m\u001b[0mitem\u001b[0m\u001b[0;34m)\u001b[0m\u001b[0;34m\u001b[0m\u001b[0;34m\u001b[0m\u001b[0m\n\u001b[1;32m   2488\u001b[0m         \u001b[0;32mif\u001b[0m \u001b[0mres\u001b[0m \u001b[0;32mis\u001b[0m \u001b[0;32mNone\u001b[0m\u001b[0;34m:\u001b[0m\u001b[0;34m\u001b[0m\u001b[0;34m\u001b[0m\u001b[0m\n\u001b[0;32m-> 2489\u001b[0;31m             \u001b[0mvalues\u001b[0m \u001b[0;34m=\u001b[0m \u001b[0mself\u001b[0m\u001b[0;34m.\u001b[0m\u001b[0m_data\u001b[0m\u001b[0;34m.\u001b[0m\u001b[0mget\u001b[0m\u001b[0;34m(\u001b[0m\u001b[0mitem\u001b[0m\u001b[0;34m)\u001b[0m\u001b[0;34m\u001b[0m\u001b[0;34m\u001b[0m\u001b[0m\n\u001b[0m\u001b[1;32m   2490\u001b[0m             \u001b[0mres\u001b[0m \u001b[0;34m=\u001b[0m \u001b[0mself\u001b[0m\u001b[0;34m.\u001b[0m\u001b[0m_box_item_values\u001b[0m\u001b[0;34m(\u001b[0m\u001b[0mitem\u001b[0m\u001b[0;34m,\u001b[0m \u001b[0mvalues\u001b[0m\u001b[0;34m)\u001b[0m\u001b[0;34m\u001b[0m\u001b[0;34m\u001b[0m\u001b[0m\n\u001b[1;32m   2491\u001b[0m             \u001b[0mcache\u001b[0m\u001b[0;34m[\u001b[0m\u001b[0mitem\u001b[0m\u001b[0;34m]\u001b[0m \u001b[0;34m=\u001b[0m \u001b[0mres\u001b[0m\u001b[0;34m\u001b[0m\u001b[0;34m\u001b[0m\u001b[0m\n",
      "\u001b[0;32m~/Apps/anaconda3/envs/develop_test/lib/python3.7/site-packages/pandas/core/internals.py\u001b[0m in \u001b[0;36mget\u001b[0;34m(self, item, fastpath)\u001b[0m\n\u001b[1;32m   4113\u001b[0m \u001b[0;34m\u001b[0m\u001b[0m\n\u001b[1;32m   4114\u001b[0m             \u001b[0;32mif\u001b[0m \u001b[0;32mnot\u001b[0m \u001b[0misna\u001b[0m\u001b[0;34m(\u001b[0m\u001b[0mitem\u001b[0m\u001b[0;34m)\u001b[0m\u001b[0;34m:\u001b[0m\u001b[0;34m\u001b[0m\u001b[0;34m\u001b[0m\u001b[0m\n\u001b[0;32m-> 4115\u001b[0;31m                 \u001b[0mloc\u001b[0m \u001b[0;34m=\u001b[0m \u001b[0mself\u001b[0m\u001b[0;34m.\u001b[0m\u001b[0mitems\u001b[0m\u001b[0;34m.\u001b[0m\u001b[0mget_loc\u001b[0m\u001b[0;34m(\u001b[0m\u001b[0mitem\u001b[0m\u001b[0;34m)\u001b[0m\u001b[0;34m\u001b[0m\u001b[0;34m\u001b[0m\u001b[0m\n\u001b[0m\u001b[1;32m   4116\u001b[0m             \u001b[0;32melse\u001b[0m\u001b[0;34m:\u001b[0m\u001b[0;34m\u001b[0m\u001b[0;34m\u001b[0m\u001b[0m\n\u001b[1;32m   4117\u001b[0m                 \u001b[0mindexer\u001b[0m \u001b[0;34m=\u001b[0m \u001b[0mnp\u001b[0m\u001b[0;34m.\u001b[0m\u001b[0marange\u001b[0m\u001b[0;34m(\u001b[0m\u001b[0mlen\u001b[0m\u001b[0;34m(\u001b[0m\u001b[0mself\u001b[0m\u001b[0;34m.\u001b[0m\u001b[0mitems\u001b[0m\u001b[0;34m)\u001b[0m\u001b[0;34m)\u001b[0m\u001b[0;34m[\u001b[0m\u001b[0misna\u001b[0m\u001b[0;34m(\u001b[0m\u001b[0mself\u001b[0m\u001b[0;34m.\u001b[0m\u001b[0mitems\u001b[0m\u001b[0;34m)\u001b[0m\u001b[0;34m]\u001b[0m\u001b[0;34m\u001b[0m\u001b[0;34m\u001b[0m\u001b[0m\n",
      "\u001b[0;32m~/Apps/anaconda3/envs/develop_test/lib/python3.7/site-packages/pandas/core/indexes/base.py\u001b[0m in \u001b[0;36mget_loc\u001b[0;34m(self, key, method, tolerance)\u001b[0m\n\u001b[1;32m   3078\u001b[0m                 \u001b[0;32mreturn\u001b[0m \u001b[0mself\u001b[0m\u001b[0;34m.\u001b[0m\u001b[0m_engine\u001b[0m\u001b[0;34m.\u001b[0m\u001b[0mget_loc\u001b[0m\u001b[0;34m(\u001b[0m\u001b[0mkey\u001b[0m\u001b[0;34m)\u001b[0m\u001b[0;34m\u001b[0m\u001b[0;34m\u001b[0m\u001b[0m\n\u001b[1;32m   3079\u001b[0m             \u001b[0;32mexcept\u001b[0m \u001b[0mKeyError\u001b[0m\u001b[0;34m:\u001b[0m\u001b[0;34m\u001b[0m\u001b[0;34m\u001b[0m\u001b[0m\n\u001b[0;32m-> 3080\u001b[0;31m                 \u001b[0;32mreturn\u001b[0m \u001b[0mself\u001b[0m\u001b[0;34m.\u001b[0m\u001b[0m_engine\u001b[0m\u001b[0;34m.\u001b[0m\u001b[0mget_loc\u001b[0m\u001b[0;34m(\u001b[0m\u001b[0mself\u001b[0m\u001b[0;34m.\u001b[0m\u001b[0m_maybe_cast_indexer\u001b[0m\u001b[0;34m(\u001b[0m\u001b[0mkey\u001b[0m\u001b[0;34m)\u001b[0m\u001b[0;34m)\u001b[0m\u001b[0;34m\u001b[0m\u001b[0;34m\u001b[0m\u001b[0m\n\u001b[0m\u001b[1;32m   3081\u001b[0m \u001b[0;34m\u001b[0m\u001b[0m\n\u001b[1;32m   3082\u001b[0m         \u001b[0mindexer\u001b[0m \u001b[0;34m=\u001b[0m \u001b[0mself\u001b[0m\u001b[0;34m.\u001b[0m\u001b[0mget_indexer\u001b[0m\u001b[0;34m(\u001b[0m\u001b[0;34m[\u001b[0m\u001b[0mkey\u001b[0m\u001b[0;34m]\u001b[0m\u001b[0;34m,\u001b[0m \u001b[0mmethod\u001b[0m\u001b[0;34m=\u001b[0m\u001b[0mmethod\u001b[0m\u001b[0;34m,\u001b[0m \u001b[0mtolerance\u001b[0m\u001b[0;34m=\u001b[0m\u001b[0mtolerance\u001b[0m\u001b[0;34m)\u001b[0m\u001b[0;34m\u001b[0m\u001b[0;34m\u001b[0m\u001b[0m\n",
      "\u001b[0;32mpandas/_libs/index.pyx\u001b[0m in \u001b[0;36mpandas._libs.index.IndexEngine.get_loc\u001b[0;34m()\u001b[0m\n",
      "\u001b[0;32mpandas/_libs/index.pyx\u001b[0m in \u001b[0;36mpandas._libs.index.IndexEngine.get_loc\u001b[0;34m()\u001b[0m\n",
      "\u001b[0;32mpandas/_libs/hashtable_class_helper.pxi\u001b[0m in \u001b[0;36mpandas._libs.hashtable.PyObjectHashTable.get_item\u001b[0;34m()\u001b[0m\n",
      "\u001b[0;32mpandas/_libs/hashtable_class_helper.pxi\u001b[0m in \u001b[0;36mpandas._libs.hashtable.PyObjectHashTable.get_item\u001b[0;34m()\u001b[0m\n",
      "\u001b[0;31mKeyError\u001b[0m: 'date'"
     ]
    }
   ],
   "source": [
    "rows_list=[]\n",
    "for file_path in relevant_file_paths:\n",
    "    print(file_path, end=\"\\r\")\n",
    "#     feature_dict = {\"date\": file_path[-11:]}\n",
    "    feature_list= [file_path[-11:]]\n",
    "    \n",
    "    SLP, = dn.read_var(file_path, ['SLP'])\n",
    "#     feature_dict.update(get_interpolated_variables(grid_values=np.expand_dims(SLP,0), \n",
    "#                                                    variable=\"SLP\", \n",
    "#                                                    index_level = 0, \n",
    "#                                                    pressure_level=\"sealevel\"))\n",
    "\n",
    "    feature_list.extend(get_interpolated_variables(grid_values=np.expand_dims(SLP,0), \n",
    "                                                   variable=\"SLP\", \n",
    "                                                   index_level = 0, \n",
    "                                                   pressure_level=\"sealevel\"))\n",
    "    # Switch to corresponding Z file\n",
    "    file_path = file_path.replace(\"P\", \"Z\")\n",
    "    \n",
    "    Z,T,Q,U,V = dn.read_var(file_path, ['Z','T','Q','U','V'])\n",
    "    \n",
    "#     feature_dict.update(get_interpolated_variables(grid_values=T, \n",
    "#                                                    variable=\"T\", \n",
    "#                                                    index_level = 0, \n",
    "#                                                    pressure_level=\"900\"))\n",
    "    feature_list.extend(get_interpolated_variables(grid_values=T, \n",
    "                                                   variable=\"T\", \n",
    "                                                   index_level = 0, \n",
    "                                                   pressure_level=\"900\"))\n",
    "\n",
    "    for index, pressure_level in {1: \"850\", 3: \"700\", 5: \"500\"}.items():\n",
    "        \n",
    "#         feature_dict.update(get_interpolated_variables(grid_values=Z, \n",
    "#                                                    variable=\"Z\", \n",
    "#                                                    index_level = index, \n",
    "#                                                    pressure_level= pressure_level))\n",
    "        \n",
    "#         feature_dict.update(get_interpolated_variables(grid_values=T, \n",
    "#                                                    variable=\"T\", \n",
    "#                                                    index_level = index, \n",
    "#                                                    pressure_level= pressure_level))\n",
    "        \n",
    "#         feature_dict.update(get_interpolated_variables(grid_values=Q, \n",
    "#                                                    variable=\"Q\", \n",
    "#                                                    index_level = index, \n",
    "#                                                    pressure_level= pressure_level))\n",
    "        \n",
    "#         feature_dict.update(get_interpolated_variables(grid_values=U, \n",
    "#                                                    variable=\"U\", \n",
    "#                                                    index_level = index, \n",
    "#                                                    pressure_level= pressure_level))\n",
    "        \n",
    "#         feature_dict.update(get_interpolated_variables(grid_values=V, \n",
    "#                                                    variable=\"V\", \n",
    "#                                                    index_level = index, \n",
    "#                                                    pressure_level= pressure_level))\n",
    "        feature_list.extend(get_interpolated_variables(grid_values=Z, \n",
    "                                                   variable=\"Z\", \n",
    "                                                   index_level = index, \n",
    "                                                   pressure_level= pressure_level))\n",
    "        \n",
    "        feature_list.extend(get_interpolated_variables(grid_values=T, \n",
    "                                                   variable=\"T\", \n",
    "                                                   index_level = index, \n",
    "                                                   pressure_level= pressure_level))\n",
    "        \n",
    "        feature_list.extend(get_interpolated_variables(grid_values=Q, \n",
    "                                                   variable=\"Q\", \n",
    "                                                   index_level = index, \n",
    "                                                   pressure_level= pressure_level))\n",
    "        \n",
    "        feature_list.extend(get_interpolated_variables(grid_values=U, \n",
    "                                                   variable=\"U\", \n",
    "                                                   index_level = index, \n",
    "                                                   pressure_level= pressure_level))\n",
    "        \n",
    "        feature_list.extend(get_interpolated_variables(grid_values=V, \n",
    "                                                   variable=\"V\", \n",
    "                                                   index_level = index, \n",
    "                                                   pressure_level= pressure_level))\n",
    "        \n",
    "        \n",
    "\n",
    "\n",
    "    rows_list.append(feature_list)\n",
    "    \n",
    "df = pd.DataFrame(rows_list)\n",
    "df[\"date\"] = pd.to_datetime(df[\"date\"], format='%Y%m%d_%H')\n",
    "df.tail()"
   ]
  },
  {
   "cell_type": "code",
   "execution_count": null,
   "metadata": {},
   "outputs": [],
   "source": [
    "# Write recipe outputs\n",
    "df.to_csv(\"/net/litho/atmosdyn2/chmony/data/MeteorologicalData/ERAI_data.csv.gz\", index=False)"
   ]
  }
 ],
 "metadata": {
  "kernelspec": {
   "display_name": "Python 3",
   "language": "python",
   "name": "python3"
  },
  "language_info": {
   "codemirror_mode": {
    "name": "ipython",
    "version": 3
   },
   "file_extension": ".py",
   "mimetype": "text/x-python",
   "name": "python",
   "nbconvert_exporter": "python",
   "pygments_lexer": "ipython3",
   "version": "3.7.6"
  }
 },
 "nbformat": 4,
 "nbformat_minor": 4
}
