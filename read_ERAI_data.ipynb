{
 "cells": [
  {
   "cell_type": "markdown",
   "metadata": {},
   "source": [
    "# Import packages"
   ]
  },
  {
   "cell_type": "code",
   "execution_count": 1,
   "metadata": {
    "scrolled": true
   },
   "outputs": [
    {
     "name": "stderr",
     "output_type": "stream",
     "text": [
      "/usr/local/Miniconda3-envs/envs/2019/envs/iacpy3_2019/lib/python3.7/site-packages/matplotlib/font_manager.py:232: UserWarning: Matplotlib is building the font cache using fc-list. This may take a moment.\n",
      "  'Matplotlib is building the font cache using fc-list. '\n"
     ]
    }
   ],
   "source": [
    "import pandas as pd, numpy as np\n",
    "import dypy.netcdf as dn\n",
    "import dypy.intergrid as ig\n",
    "import os\n",
    "import re\n",
    "from constants import *"
   ]
  },
  {
   "cell_type": "markdown",
   "metadata": {},
   "source": [
    "# Define local constants"
   ]
  },
  {
   "cell_type": "code",
   "execution_count": 2,
   "metadata": {},
   "outputs": [],
   "source": [
    "INDEX_ERA = np.s_[:, :, (LAT_MIN_ERA+90):(LAT_MAX_ERA+90+1),(180+LON_MIN_ERA):(180+LON_MAX_ERA+1)]\n",
    "\n",
    "SOUTH_WEST_POINT = np.array([LAT_MIN_ERA, LON_MIN_ERA])\n",
    "NORTH_EAST_POINT = np.array([LAT_MAX_ERA, LON_MAX_ERA])\n",
    "\n",
    "QUERY_POINTS = [[lat, lon] for lat in LATS_CESM for lon in LONS_CESM]\n",
    "QUERY_POINTS_LABELS = [[str(int(100*query_point[0])), str(int(100*query_point[1]))] for query_point in QUERY_POINTS]"
   ]
  },
  {
   "cell_type": "markdown",
   "metadata": {},
   "source": [
    "# Define functions"
   ]
  },
  {
   "cell_type": "code",
   "execution_count": 3,
   "metadata": {},
   "outputs": [],
   "source": [
    "def get_interpolated_variables(grid_values, index_level):\n",
    "    grid_values_cut = grid_values[index_level]\n",
    "    interfunc = ig.Intergrid(grid_values_cut, lo=SOUTH_WEST_POINT, hi=NORTH_EAST_POINT, verbose = False)\n",
    "    return interfunc(QUERY_POINTS) "
   ]
  },
  {
   "cell_type": "markdown",
   "metadata": {},
   "source": [
    "# Recursively get all relevant file paths"
   ]
  },
  {
   "cell_type": "code",
   "execution_count": 4,
   "metadata": {},
   "outputs": [
    {
     "name": "stdout",
     "output_type": "stream",
     "text": [
      "57952\n"
     ]
    }
   ],
   "source": [
    "rootdir = \"/net/bio/atmosdyn/erainterim/cdf/\"\n",
    "relevant_file_paths = []\n",
    "for root, subdirs, files in os.walk(rootdir):\n",
    "    if len(root.split(\"/\")) == 8:\n",
    "        if (root.split(\"/\")[6] != \"1979\"):\n",
    "            regex = re.compile('P\\w+')\n",
    "            relevant_file_paths_local = [os.path.join(root, netcdf_file) for netcdf_file in files if regex.match(netcdf_file) ]\n",
    "            relevant_file_paths.extend(relevant_file_paths_local)\n",
    "print(len(relevant_file_paths))"
   ]
  },
  {
   "cell_type": "markdown",
   "metadata": {},
   "source": [
    "# Read in all relevant ERAI files"
   ]
  },
  {
   "cell_type": "code",
   "execution_count": 5,
   "metadata": {},
   "outputs": [
    {
     "name": "stdout",
     "output_type": "stream",
     "text": [
      "1769\n"
     ]
    }
   ],
   "source": [
    "feature_list_names =[\"date\"]\n",
    "feature_list_names.extend([f\"SLP_{query_point[0]}_{query_point[1]}_sealevel\" for query_point in QUERY_POINTS_LABELS])\n",
    "feature_list_names.extend([f\"T_{query_point[0]}_{query_point[1]}_900\" for query_point in QUERY_POINTS_LABELS])\n",
    "for pressure_level in [\"850\", \"700\", \"500\"]:\n",
    "    for variable in ['Z','T','Q','U','V']:\n",
    "        feature_list_names.extend([f\"{variable}_{query_point[0]}_{query_point[1]}_{pressure_level}\" for query_point in QUERY_POINTS_LABELS])\n",
    "print(len(feature_list_names))"
   ]
  },
  {
   "cell_type": "code",
   "execution_count": 6,
   "metadata": {},
   "outputs": [
    {
     "name": "stdout",
     "output_type": "stream",
     "text": [
      "0.99998274434014366657\r"
     ]
    }
   ],
   "source": [
    "rows_list=[]\n",
    "for file_path in relevant_file_paths:\n",
    "    print(len(rows_list)/len(relevant_file_paths), end=\"\\r\", flush=True)\n",
    "    feature_list = [file_path[-11:]] # Get datetime string\n",
    "\n",
    "    SLP, = dn.read_var(file_path, ['SLP'], index=INDEX_ERA)\n",
    "\n",
    "    feature_list.extend(get_interpolated_variables(grid_values=np.expand_dims(SLP,0), index_level=0))\n",
    "\n",
    "    # Switch to corresponding Z file\n",
    "    file_path = file_path.replace(\"P\", \"Z\")\n",
    "\n",
    "    Z,T,Q,U,V = dn.read_var(file_path, ['Z','T','Q','U','V'], index=INDEX_ERA)\n",
    "    \n",
    "    feature_list.extend(get_interpolated_variables(grid_values=T, index_level=0))\n",
    "\n",
    "    for index, pressure_level in {1: \"850\", 3: \"700\", 5: \"500\"}.items():\n",
    "\n",
    "        feature_list.extend(get_interpolated_variables(grid_values=Z, index_level=index))\n",
    "        feature_list.extend(get_interpolated_variables(grid_values=T, index_level=index))\n",
    "        feature_list.extend(get_interpolated_variables(grid_values=Q, index_level=index))\n",
    "        feature_list.extend(get_interpolated_variables(grid_values=U, index_level=index))\n",
    "        feature_list.extend(get_interpolated_variables(grid_values=V, index_level=index))\n",
    "\n",
    "    rows_list.append(feature_list)"
   ]
  },
  {
   "cell_type": "code",
   "execution_count": 7,
   "metadata": {},
   "outputs": [
    {
     "name": "stdout",
     "output_type": "stream",
     "text": [
      "(57952, 1769)\n"
     ]
    },
    {
     "data": {
      "text/html": [
       "<div>\n",
       "<style scoped>\n",
       "    .dataframe tbody tr th:only-of-type {\n",
       "        vertical-align: middle;\n",
       "    }\n",
       "\n",
       "    .dataframe tbody tr th {\n",
       "        vertical-align: top;\n",
       "    }\n",
       "\n",
       "    .dataframe thead th {\n",
       "        text-align: right;\n",
       "    }\n",
       "</style>\n",
       "<table border=\"1\" class=\"dataframe\">\n",
       "  <thead>\n",
       "    <tr style=\"text-align: right;\">\n",
       "      <th></th>\n",
       "      <th>date</th>\n",
       "      <th>SLP_4287_0_sealevel</th>\n",
       "      <th>SLP_4287_125_sealevel</th>\n",
       "      <th>SLP_4287_250_sealevel</th>\n",
       "      <th>SLP_4287_375_sealevel</th>\n",
       "      <th>SLP_4287_500_sealevel</th>\n",
       "      <th>SLP_4287_625_sealevel</th>\n",
       "      <th>SLP_4287_750_sealevel</th>\n",
       "      <th>SLP_4287_875_sealevel</th>\n",
       "      <th>SLP_4287_1000_sealevel</th>\n",
       "      <th>...</th>\n",
       "      <th>V_4947_375_500</th>\n",
       "      <th>V_4947_500_500</th>\n",
       "      <th>V_4947_625_500</th>\n",
       "      <th>V_4947_750_500</th>\n",
       "      <th>V_4947_875_500</th>\n",
       "      <th>V_4947_1000_500</th>\n",
       "      <th>V_4947_1125_500</th>\n",
       "      <th>V_4947_1250_500</th>\n",
       "      <th>V_4947_1375_500</th>\n",
       "      <th>V_4947_1500_500</th>\n",
       "    </tr>\n",
       "  </thead>\n",
       "  <tbody>\n",
       "    <tr>\n",
       "      <th>0</th>\n",
       "      <td>1980-01-01 00:00:00</td>\n",
       "      <td>1017.995239</td>\n",
       "      <td>1018.003906</td>\n",
       "      <td>1017.821594</td>\n",
       "      <td>1016.920410</td>\n",
       "      <td>1015.298279</td>\n",
       "      <td>1012.365479</td>\n",
       "      <td>1010.165161</td>\n",
       "      <td>1008.873108</td>\n",
       "      <td>1007.041077</td>\n",
       "      <td>...</td>\n",
       "      <td>-21.335085</td>\n",
       "      <td>-21.929634</td>\n",
       "      <td>-18.944633</td>\n",
       "      <td>-13.576672</td>\n",
       "      <td>-7.859432</td>\n",
       "      <td>-4.315187</td>\n",
       "      <td>-4.537302</td>\n",
       "      <td>-6.384339</td>\n",
       "      <td>-7.468239</td>\n",
       "      <td>-6.366766</td>\n",
       "    </tr>\n",
       "    <tr>\n",
       "      <th>1</th>\n",
       "      <td>1980-01-01 06:00:00</td>\n",
       "      <td>1012.411987</td>\n",
       "      <td>1012.941711</td>\n",
       "      <td>1013.162537</td>\n",
       "      <td>1012.466492</td>\n",
       "      <td>1011.173340</td>\n",
       "      <td>1009.057678</td>\n",
       "      <td>1007.720276</td>\n",
       "      <td>1007.450928</td>\n",
       "      <td>1007.185791</td>\n",
       "      <td>...</td>\n",
       "      <td>-15.864392</td>\n",
       "      <td>-17.260447</td>\n",
       "      <td>-18.230337</td>\n",
       "      <td>-17.349325</td>\n",
       "      <td>-14.684937</td>\n",
       "      <td>-11.736959</td>\n",
       "      <td>-9.278327</td>\n",
       "      <td>-6.926729</td>\n",
       "      <td>-5.746246</td>\n",
       "      <td>-5.830248</td>\n",
       "    </tr>\n",
       "    <tr>\n",
       "      <th>2</th>\n",
       "      <td>1980-01-01 12:00:00</td>\n",
       "      <td>1013.149170</td>\n",
       "      <td>1011.777222</td>\n",
       "      <td>1011.904480</td>\n",
       "      <td>1011.719299</td>\n",
       "      <td>1010.750427</td>\n",
       "      <td>1009.099365</td>\n",
       "      <td>1008.059875</td>\n",
       "      <td>1007.817688</td>\n",
       "      <td>1007.701660</td>\n",
       "      <td>...</td>\n",
       "      <td>-14.286724</td>\n",
       "      <td>-13.759618</td>\n",
       "      <td>-12.580480</td>\n",
       "      <td>-11.242802</td>\n",
       "      <td>-10.006481</td>\n",
       "      <td>-8.826975</td>\n",
       "      <td>-7.680785</td>\n",
       "      <td>-6.542734</td>\n",
       "      <td>-5.758639</td>\n",
       "      <td>-4.876877</td>\n",
       "    </tr>\n",
       "    <tr>\n",
       "      <th>3</th>\n",
       "      <td>1980-01-01 18:00:00</td>\n",
       "      <td>1014.345581</td>\n",
       "      <td>1013.098083</td>\n",
       "      <td>1012.252258</td>\n",
       "      <td>1011.263855</td>\n",
       "      <td>1009.959900</td>\n",
       "      <td>1008.008911</td>\n",
       "      <td>1006.892273</td>\n",
       "      <td>1006.739563</td>\n",
       "      <td>1006.628662</td>\n",
       "      <td>...</td>\n",
       "      <td>-16.411970</td>\n",
       "      <td>-14.912545</td>\n",
       "      <td>-13.090832</td>\n",
       "      <td>-11.290992</td>\n",
       "      <td>-9.406482</td>\n",
       "      <td>-7.761153</td>\n",
       "      <td>-6.514461</td>\n",
       "      <td>-5.640243</td>\n",
       "      <td>-5.237644</td>\n",
       "      <td>-5.301913</td>\n",
       "    </tr>\n",
       "    <tr>\n",
       "      <th>4</th>\n",
       "      <td>1980-01-02 00:00:00</td>\n",
       "      <td>1016.135559</td>\n",
       "      <td>1013.480103</td>\n",
       "      <td>1011.916931</td>\n",
       "      <td>1011.259705</td>\n",
       "      <td>1010.306091</td>\n",
       "      <td>1008.409668</td>\n",
       "      <td>1006.916138</td>\n",
       "      <td>1006.435059</td>\n",
       "      <td>1006.093689</td>\n",
       "      <td>...</td>\n",
       "      <td>-14.576132</td>\n",
       "      <td>-13.829450</td>\n",
       "      <td>-12.889864</td>\n",
       "      <td>-11.361773</td>\n",
       "      <td>-9.516212</td>\n",
       "      <td>-7.717099</td>\n",
       "      <td>-6.117799</td>\n",
       "      <td>-4.799734</td>\n",
       "      <td>-3.900637</td>\n",
       "      <td>-3.176462</td>\n",
       "    </tr>\n",
       "  </tbody>\n",
       "</table>\n",
       "<p>5 rows × 1769 columns</p>\n",
       "</div>"
      ],
      "text/plain": [
       "                 date  SLP_4287_0_sealevel  SLP_4287_125_sealevel  \\\n",
       "0 1980-01-01 00:00:00          1017.995239            1018.003906   \n",
       "1 1980-01-01 06:00:00          1012.411987            1012.941711   \n",
       "2 1980-01-01 12:00:00          1013.149170            1011.777222   \n",
       "3 1980-01-01 18:00:00          1014.345581            1013.098083   \n",
       "4 1980-01-02 00:00:00          1016.135559            1013.480103   \n",
       "\n",
       "   SLP_4287_250_sealevel  SLP_4287_375_sealevel  SLP_4287_500_sealevel  \\\n",
       "0            1017.821594            1016.920410            1015.298279   \n",
       "1            1013.162537            1012.466492            1011.173340   \n",
       "2            1011.904480            1011.719299            1010.750427   \n",
       "3            1012.252258            1011.263855            1009.959900   \n",
       "4            1011.916931            1011.259705            1010.306091   \n",
       "\n",
       "   SLP_4287_625_sealevel  SLP_4287_750_sealevel  SLP_4287_875_sealevel  \\\n",
       "0            1012.365479            1010.165161            1008.873108   \n",
       "1            1009.057678            1007.720276            1007.450928   \n",
       "2            1009.099365            1008.059875            1007.817688   \n",
       "3            1008.008911            1006.892273            1006.739563   \n",
       "4            1008.409668            1006.916138            1006.435059   \n",
       "\n",
       "   SLP_4287_1000_sealevel  ...  V_4947_375_500  V_4947_500_500  \\\n",
       "0             1007.041077  ...      -21.335085      -21.929634   \n",
       "1             1007.185791  ...      -15.864392      -17.260447   \n",
       "2             1007.701660  ...      -14.286724      -13.759618   \n",
       "3             1006.628662  ...      -16.411970      -14.912545   \n",
       "4             1006.093689  ...      -14.576132      -13.829450   \n",
       "\n",
       "   V_4947_625_500  V_4947_750_500  V_4947_875_500  V_4947_1000_500  \\\n",
       "0      -18.944633      -13.576672       -7.859432        -4.315187   \n",
       "1      -18.230337      -17.349325      -14.684937       -11.736959   \n",
       "2      -12.580480      -11.242802      -10.006481        -8.826975   \n",
       "3      -13.090832      -11.290992       -9.406482        -7.761153   \n",
       "4      -12.889864      -11.361773       -9.516212        -7.717099   \n",
       "\n",
       "   V_4947_1125_500  V_4947_1250_500  V_4947_1375_500  V_4947_1500_500  \n",
       "0        -4.537302        -6.384339        -7.468239        -6.366766  \n",
       "1        -9.278327        -6.926729        -5.746246        -5.830248  \n",
       "2        -7.680785        -6.542734        -5.758639        -4.876877  \n",
       "3        -6.514461        -5.640243        -5.237644        -5.301913  \n",
       "4        -6.117799        -4.799734        -3.900637        -3.176462  \n",
       "\n",
       "[5 rows x 1769 columns]"
      ]
     },
     "execution_count": 7,
     "metadata": {},
     "output_type": "execute_result"
    }
   ],
   "source": [
    "df = pd.DataFrame(rows_list, columns=feature_list_names)\n",
    "df[\"date\"] = pd.to_datetime(df[\"date\"], format=\"%Y%m%d_%H\")\n",
    "print(df.shape)\n",
    "df.head()"
   ]
  },
  {
   "cell_type": "code",
   "execution_count": 8,
   "metadata": {},
   "outputs": [],
   "source": [
    "# Write recipe outputs\n",
    "df.to_csv(\"/net/litho/atmosdyn2/chmony/data/MeteorologicalData/ERAI_data.csv.gz\", index=False)"
   ]
  }
 ],
 "metadata": {
  "kernelspec": {
   "display_name": "Python (iacpy3_2019)",
   "language": "python",
   "name": "iacpy3_2019"
  },
  "language_info": {
   "codemirror_mode": {
    "name": "ipython",
    "version": 3
   },
   "file_extension": ".py",
   "mimetype": "text/x-python",
   "name": "python",
   "nbconvert_exporter": "python",
   "pygments_lexer": "ipython3",
   "version": "3.7.1"
  }
 },
 "nbformat": 4,
 "nbformat_minor": 4
}
