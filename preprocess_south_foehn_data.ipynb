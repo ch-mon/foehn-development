{
 "cells": [
  {
   "cell_type": "code",
   "execution_count": 1,
   "metadata": {},
   "outputs": [],
   "source": [
    "import pandas as pd\n",
    "import numpy as np"
   ]
  },
  {
   "cell_type": "markdown",
   "metadata": {},
   "source": [
    "# Read South Foehn datasets and stack"
   ]
  },
  {
   "cell_type": "code",
   "execution_count": 14,
   "metadata": {},
   "outputs": [],
   "source": [
    "location=\"ALT\""
   ]
  },
  {
   "cell_type": "code",
   "execution_count": 15,
   "metadata": {},
   "outputs": [],
   "source": [
    "df_1981_1990 = pd.read_csv(f\"data/FoehnData/{location}_1981_1990.dat\", delimiter=\"\\t\", header=1)\n",
    "df_1981_1990[\"date\"] = pd.to_datetime(df_1981_1990[\"Datumsangabe_Zeit\"], format='%Y%m%d %H:%M')\n",
    "df_1981_1990 = df_1981_1990[[\"date\", \"Foehn\"]]"
   ]
  },
  {
   "cell_type": "code",
   "execution_count": 16,
   "metadata": {},
   "outputs": [],
   "source": [
    "df_1983_2019 = pd.read_csv(f\"data/FoehnData/{location}_1983_2019.dat\", delimiter=\"|\", skiprows=1, header=0, names=range(1,10), low_memory=False)\n",
    "df_1983_2019[\"date\"] = pd.to_datetime(df_1983_2019[2], format='%Y%m%d%H%M%S')\n",
    "df_1983_2019[\"Foehn\"] = df_1983_2019[4]\n",
    "df_1983_2019 = df_1983_2019[[\"date\", \"Foehn\"]]"
   ]
  },
  {
   "cell_type": "code",
   "execution_count": 17,
   "metadata": {},
   "outputs": [],
   "source": [
    "# Stack dataframes. Take the years 1981 and 1982 from df_1981_1990 and the remainder from df_1983_2019\n",
    "df_1981_2019 = pd.concat([df_1981_1990.loc[df_1981_1990[\"date\"] < np.datetime64(\"1983-01-01 00:00:00\"),:], df_1983_2019], axis=0, ignore_index=True)\n",
    "\n",
    "# Drop NaT values (due to some blank rows inn 1983-2019 dataframe)\n",
    "df_1981_2019.dropna(inplace=True, subset=[\"date\"])"
   ]
  },
  {
   "cell_type": "code",
   "execution_count": 18,
   "metadata": {},
   "outputs": [],
   "source": [
    "# Ensure continuoes and consistent values in the \"date\" column\n",
    "df_timeframe = pd.Series(pd.date_range(start = \"1981-01-01 00:00:00\", end=\"2019-12-31 23:50:00\", freq=\"10min\"), name=\"date\")\n",
    "df_1981_2019 = pd.merge(df_timeframe, df_1981_2019, on=\"date\", how=\"left\", validate=\"one_to_one\")"
   ]
  },
  {
   "cell_type": "markdown",
   "metadata": {},
   "source": [
    "# Preprocess data"
   ]
  },
  {
   "cell_type": "code",
   "execution_count": 19,
   "metadata": {},
   "outputs": [],
   "source": [
    "# Set all values in Foehn which are larger than 2 to np.NaN\n",
    "df_1981_2019[\"Foehn\"] = df_1981_2019[\"Foehn\"].mask(df_1981_2019[\"Foehn\"] >2)\n",
    "\n",
    "# Set all Foehn values (Foehn==2) to 1 (i.e. treat Mischluft as normal foehn)\n",
    "df_1981_2019[\"Foehn\"] = df_1981_2019[\"Foehn\"].mask(df_1981_2019[\"Foehn\"] == 2.0, 1.0)"
   ]
  },
  {
   "cell_type": "code",
   "execution_count": 20,
   "metadata": {},
   "outputs": [],
   "source": [
    "# Define rolling window of length 6. If at least 4 dates show Foehn say there is foehn prevalent, otherwise not (refer to Gutermann et. al.(2013))\n",
    "# Allow max 2 missing values (-> min_periods=4). Otherwise set entry to np.NaN\n",
    "foehn_rolling_window=df_1981_2019[\"Foehn\"].rolling(window=6, min_periods=4).sum().shift(-3)\n",
    "foehn_new_representation = (foehn_rolling_window >= 4).astype(int)\n",
    "foehn_new_representation.loc[foehn_rolling_window.isnull()] = np.NaN\n",
    "\n",
    "df_rolling= df_1981_2019.copy()\n",
    "df_rolling[\"Foehn\"]= foehn_new_representation"
   ]
  },
  {
   "cell_type": "code",
   "execution_count": 21,
   "metadata": {},
   "outputs": [],
   "source": [
    "# Keep only timestamps at full hour and where hour equals 0,6,12 or 18\n",
    "date_mask = (df_rolling[\"date\"].dt.minute==0) & \\\n",
    "            ((df_rolling[\"date\"].dt.hour == 0) | \n",
    "            (df_rolling[\"date\"].dt.hour == 6) |\n",
    "            (df_rolling[\"date\"].dt.hour == 12) |\n",
    "            (df_rolling[\"date\"].dt.hour == 18))\n",
    "df_foehn =df_rolling.loc[date_mask]"
   ]
  },
  {
   "cell_type": "code",
   "execution_count": 22,
   "metadata": {},
   "outputs": [
    {
     "name": "stdout",
     "output_type": "stream",
     "text": [
      "0.0    0.946289\n",
      "1.0    0.053711\n",
      "Name: Foehn, dtype: float64\n"
     ]
    },
    {
     "data": {
      "text/html": [
       "<div>\n",
       "<style scoped>\n",
       "    .dataframe tbody tr th:only-of-type {\n",
       "        vertical-align: middle;\n",
       "    }\n",
       "\n",
       "    .dataframe tbody tr th {\n",
       "        vertical-align: top;\n",
       "    }\n",
       "\n",
       "    .dataframe thead th {\n",
       "        text-align: right;\n",
       "    }\n",
       "</style>\n",
       "<table border=\"1\" class=\"dataframe\">\n",
       "  <thead>\n",
       "    <tr style=\"text-align: right;\">\n",
       "      <th></th>\n",
       "      <th>date</th>\n",
       "      <th>Foehn</th>\n",
       "    </tr>\n",
       "  </thead>\n",
       "  <tbody>\n",
       "    <tr>\n",
       "      <th>0</th>\n",
       "      <td>1981-01-01 00:00:00</td>\n",
       "      <td>NaN</td>\n",
       "    </tr>\n",
       "    <tr>\n",
       "      <th>36</th>\n",
       "      <td>1981-01-01 06:00:00</td>\n",
       "      <td>NaN</td>\n",
       "    </tr>\n",
       "    <tr>\n",
       "      <th>72</th>\n",
       "      <td>1981-01-01 12:00:00</td>\n",
       "      <td>NaN</td>\n",
       "    </tr>\n",
       "    <tr>\n",
       "      <th>108</th>\n",
       "      <td>1981-01-01 18:00:00</td>\n",
       "      <td>NaN</td>\n",
       "    </tr>\n",
       "    <tr>\n",
       "      <th>144</th>\n",
       "      <td>1981-01-02 00:00:00</td>\n",
       "      <td>NaN</td>\n",
       "    </tr>\n",
       "    <tr>\n",
       "      <th>...</th>\n",
       "      <td>...</td>\n",
       "      <td>...</td>\n",
       "    </tr>\n",
       "    <tr>\n",
       "      <th>2050956</th>\n",
       "      <td>2019-12-30 18:00:00</td>\n",
       "      <td>0.0</td>\n",
       "    </tr>\n",
       "    <tr>\n",
       "      <th>2050992</th>\n",
       "      <td>2019-12-31 00:00:00</td>\n",
       "      <td>0.0</td>\n",
       "    </tr>\n",
       "    <tr>\n",
       "      <th>2051028</th>\n",
       "      <td>2019-12-31 06:00:00</td>\n",
       "      <td>0.0</td>\n",
       "    </tr>\n",
       "    <tr>\n",
       "      <th>2051064</th>\n",
       "      <td>2019-12-31 12:00:00</td>\n",
       "      <td>0.0</td>\n",
       "    </tr>\n",
       "    <tr>\n",
       "      <th>2051100</th>\n",
       "      <td>2019-12-31 18:00:00</td>\n",
       "      <td>0.0</td>\n",
       "    </tr>\n",
       "  </tbody>\n",
       "</table>\n",
       "<p>56976 rows × 2 columns</p>\n",
       "</div>"
      ],
      "text/plain": [
       "                       date  Foehn\n",
       "0       1981-01-01 00:00:00    NaN\n",
       "36      1981-01-01 06:00:00    NaN\n",
       "72      1981-01-01 12:00:00    NaN\n",
       "108     1981-01-01 18:00:00    NaN\n",
       "144     1981-01-02 00:00:00    NaN\n",
       "...                     ...    ...\n",
       "2050956 2019-12-30 18:00:00    0.0\n",
       "2050992 2019-12-31 00:00:00    0.0\n",
       "2051028 2019-12-31 06:00:00    0.0\n",
       "2051064 2019-12-31 12:00:00    0.0\n",
       "2051100 2019-12-31 18:00:00    0.0\n",
       "\n",
       "[56976 rows x 2 columns]"
      ]
     },
     "metadata": {},
     "output_type": "display_data"
    }
   ],
   "source": [
    "# Sanity check\n",
    "print(df_foehn[\"Foehn\"].value_counts(normalize=True))\n",
    "display(df_foehn)"
   ]
  },
  {
   "cell_type": "markdown",
   "metadata": {},
   "source": [
    "# Write output"
   ]
  },
  {
   "cell_type": "code",
   "execution_count": 23,
   "metadata": {},
   "outputs": [],
   "source": [
    "df_foehn.to_csv(f\"data/FoehnData/{location}_foehn.csv\", index=False)"
   ]
  }
 ],
 "metadata": {
  "kernelspec": {
   "display_name": "Python 3",
   "language": "python",
   "name": "python3"
  },
  "language_info": {
   "codemirror_mode": {
    "name": "ipython",
    "version": 3
   },
   "file_extension": ".py",
   "mimetype": "text/x-python",
   "name": "python",
   "nbconvert_exporter": "python",
   "pygments_lexer": "ipython3",
   "version": "3.8.5"
  }
 },
 "nbformat": 4,
 "nbformat_minor": 4
}
