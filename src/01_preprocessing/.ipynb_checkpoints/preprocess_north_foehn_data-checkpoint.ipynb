{
 "cells": [
  {
   "cell_type": "code",
   "execution_count": 1,
   "metadata": {},
   "outputs": [],
   "source": [
    "import pandas as pd\n",
    "import numpy as np\n",
    "import matplotlib.pyplot as plt\n",
    "import seaborn as sns\n",
    "sns.set_style(\"whitegrid\")\n",
    "from utils import *\n",
    "plt.rcParams.update({'font.size': 20})"
   ]
  },
  {
   "cell_type": "markdown",
   "metadata": {},
   "source": [
    "# Read North Foehn datasets and stack"
   ]
  },
  {
   "cell_type": "code",
   "execution_count": 2,
   "metadata": {},
   "outputs": [],
   "source": [
    "location=\"LUG\" # \"PIO\" or \"LUG\""
   ]
  },
  {
   "cell_type": "code",
   "execution_count": 3,
   "metadata": {},
   "outputs": [],
   "source": [
    "df_1983_2016 = pd.read_csv(f\"data/FoehnData/{location}_1983_2016.txt\", delimiter=\",\", header=0)\n",
    "df_1983_2016[\"Date\"] = pd.to_datetime(df_1983_2016[\"Date\"], format='%Y%m%d%H%M')\n",
    "df_1983_2016.rename(columns= {\"Date\": \"date\", \"Foehn Index\": \"Foehn\"}, inplace=True)"
   ]
  },
  {
   "cell_type": "code",
   "execution_count": 4,
   "metadata": {},
   "outputs": [],
   "source": [
    "df_2017_2019 = pd.read_csv(f\"data/FoehnData/{location}_2017_2019.txt\", delimiter=\";\", skiprows=2, header=0)\n",
    "df_2017_2019[\"time\"] = pd.to_datetime(df_2017_2019[\"time\"], format='%Y%m%d%H%M')\n",
    "df_2017_2019.rename(columns= {\"time\": \"date\", \"wcc006s0\": \"Foehn\"}, inplace=True)\n",
    "df_2017_2019 = df_2017_2019[[\"date\", \"Foehn\"]]"
   ]
  },
  {
   "cell_type": "code",
   "execution_count": 5,
   "metadata": {},
   "outputs": [],
   "source": [
    "# Stack dataframes.\n",
    "df_1983_2019 = pd.concat([df_1983_2016, df_2017_2019], axis=0, ignore_index=True)"
   ]
  },
  {
   "cell_type": "code",
   "execution_count": 6,
   "metadata": {},
   "outputs": [],
   "source": [
    "# Ensure continuoes and consistent values in the \"date\" column\n",
    "df_timeframe = pd.Series(pd.date_range(start = \"1983-01-01 00:00:00\", end=\"2019-12-31 23:50:00\", freq=\"10min\"), name=\"date\")\n",
    "df_1983_2019 = pd.merge(df_timeframe, df_1983_2019, on=\"date\", how=\"left\", validate=\"one_to_one\")"
   ]
  },
  {
   "cell_type": "markdown",
   "metadata": {},
   "source": [
    "# Preprocess data"
   ]
  },
  {
   "cell_type": "code",
   "execution_count": 7,
   "metadata": {},
   "outputs": [],
   "source": [
    "# Remove \"-\" from Foehn column and transform type to float\n",
    "df_1983_2019[\"Foehn\"] = df_1983_2019[\"Foehn\"].mask(df_1983_2019[\"Foehn\"] ==\"-\", np.NaN)\n",
    "df_1983_2019[\"Foehn\"] = df_1983_2019[\"Foehn\"].astype(float)\n",
    "\n",
    "# Set all Foehn values (Foehn==2) to 1 (i.e. treat Mischluft as normal foehn)\n",
    "df_1983_2019[\"Foehn\"] = df_1983_2019[\"Foehn\"].mask(df_1983_2019[\"Foehn\"] == 2.0, 1.0)"
   ]
  },
  {
   "cell_type": "code",
   "execution_count": 33,
   "metadata": {},
   "outputs": [
    {
     "name": "stdout",
     "output_type": "stream",
     "text": [
      "448.027397260274\n",
      "2920\n"
     ]
    }
   ],
   "source": [
    "# Calculate mean duration and number of foehn events\n",
    "counter = 0\n",
    "foehn_durations = []\n",
    "for i in range(1,len(df_1983_2019.index)-1):\n",
    "    print(i, end=\"\\r\")\n",
    "    if df_1983_2019.loc[i, \"Foehn\"] == 1: \n",
    "        counter +=1\n",
    "    elif df_1983_2019.loc[i-1, \"Foehn\"] == 1 and df_1983_2019.loc[i, \"Foehn\"] == 0 and df_1983_2019.loc[i+1, \"Foehn\"] == 1:\n",
    "        counter +=1\n",
    "    else:\n",
    "        if counter:\n",
    "            foehn_durations.append(counter*10)\n",
    "            counter = 0\n",
    "print(np.array(foehn_durations).mean())\n",
    "print(len(foehn_durations))"
   ]
  },
  {
   "cell_type": "code",
   "execution_count": 8,
   "metadata": {},
   "outputs": [],
   "source": [
    "# Define rolling window of length 6. If at least 4 dates show Foehn say there is foehn prevalent, otherwise not (refer to Gutermann et. al.(2013))\n",
    "# Allow max 2 missing values (-> min_periods=4). Otherwise set entry to np.NaN\n",
    "foehn_rolling_window=df_1983_2019[\"Foehn\"].rolling(window=6, min_periods=4).sum().shift(-3)\n",
    "foehn_new_representation = (foehn_rolling_window >= 4).astype(int)\n",
    "foehn_new_representation.loc[foehn_rolling_window.isnull()] = np.NaN\n",
    "\n",
    "df_rolling= df_1983_2019.copy()\n",
    "df_rolling[\"Foehn\"]= foehn_new_representation"
   ]
  },
  {
   "cell_type": "code",
   "execution_count": 9,
   "metadata": {},
   "outputs": [],
   "source": [
    "# Keep only timestamps at full hour and where hour equals 0,6,12 or 18\n",
    "date_mask = (df_rolling[\"date\"].dt.minute==0) & \\\n",
    "            ((df_rolling[\"date\"].dt.hour == 0) | \n",
    "            (df_rolling[\"date\"].dt.hour == 6) |\n",
    "            (df_rolling[\"date\"].dt.hour == 12) |\n",
    "            (df_rolling[\"date\"].dt.hour == 18))\n",
    "df_foehn =df_rolling.loc[date_mask]"
   ]
  },
  {
   "cell_type": "code",
   "execution_count": 24,
   "metadata": {},
   "outputs": [
    {
     "name": "stdout",
     "output_type": "stream",
     "text": [
      "0.0    50032\n",
      "1.0     3524\n",
      "Name: Foehn, dtype: int64\n"
     ]
    },
    {
     "data": {
      "text/html": [
       "<div>\n",
       "<style scoped>\n",
       "    .dataframe tbody tr th:only-of-type {\n",
       "        vertical-align: middle;\n",
       "    }\n",
       "\n",
       "    .dataframe tbody tr th {\n",
       "        vertical-align: top;\n",
       "    }\n",
       "\n",
       "    .dataframe thead th {\n",
       "        text-align: right;\n",
       "    }\n",
       "</style>\n",
       "<table border=\"1\" class=\"dataframe\">\n",
       "  <thead>\n",
       "    <tr style=\"text-align: right;\">\n",
       "      <th></th>\n",
       "      <th>date</th>\n",
       "      <th>Foehn</th>\n",
       "    </tr>\n",
       "  </thead>\n",
       "  <tbody>\n",
       "    <tr>\n",
       "      <th>0</th>\n",
       "      <td>1983-01-01 00:00:00</td>\n",
       "      <td>0.0</td>\n",
       "    </tr>\n",
       "    <tr>\n",
       "      <th>36</th>\n",
       "      <td>1983-01-01 06:00:00</td>\n",
       "      <td>0.0</td>\n",
       "    </tr>\n",
       "    <tr>\n",
       "      <th>72</th>\n",
       "      <td>1983-01-01 12:00:00</td>\n",
       "      <td>0.0</td>\n",
       "    </tr>\n",
       "    <tr>\n",
       "      <th>108</th>\n",
       "      <td>1983-01-01 18:00:00</td>\n",
       "      <td>0.0</td>\n",
       "    </tr>\n",
       "    <tr>\n",
       "      <th>144</th>\n",
       "      <td>1983-01-02 00:00:00</td>\n",
       "      <td>0.0</td>\n",
       "    </tr>\n",
       "    <tr>\n",
       "      <th>...</th>\n",
       "      <td>...</td>\n",
       "      <td>...</td>\n",
       "    </tr>\n",
       "    <tr>\n",
       "      <th>1928268</th>\n",
       "      <td>2019-08-30 18:00:00</td>\n",
       "      <td>0.0</td>\n",
       "    </tr>\n",
       "    <tr>\n",
       "      <th>1928304</th>\n",
       "      <td>2019-08-31 00:00:00</td>\n",
       "      <td>0.0</td>\n",
       "    </tr>\n",
       "    <tr>\n",
       "      <th>1928340</th>\n",
       "      <td>2019-08-31 06:00:00</td>\n",
       "      <td>0.0</td>\n",
       "    </tr>\n",
       "    <tr>\n",
       "      <th>1928376</th>\n",
       "      <td>2019-08-31 12:00:00</td>\n",
       "      <td>0.0</td>\n",
       "    </tr>\n",
       "    <tr>\n",
       "      <th>1928412</th>\n",
       "      <td>2019-08-31 18:00:00</td>\n",
       "      <td>0.0</td>\n",
       "    </tr>\n",
       "  </tbody>\n",
       "</table>\n",
       "<p>53568 rows × 2 columns</p>\n",
       "</div>"
      ],
      "text/plain": [
       "                       date  Foehn\n",
       "0       1983-01-01 00:00:00    0.0\n",
       "36      1983-01-01 06:00:00    0.0\n",
       "72      1983-01-01 12:00:00    0.0\n",
       "108     1983-01-01 18:00:00    0.0\n",
       "144     1983-01-02 00:00:00    0.0\n",
       "...                     ...    ...\n",
       "1928268 2019-08-30 18:00:00    0.0\n",
       "1928304 2019-08-31 00:00:00    0.0\n",
       "1928340 2019-08-31 06:00:00    0.0\n",
       "1928376 2019-08-31 12:00:00    0.0\n",
       "1928412 2019-08-31 18:00:00    0.0\n",
       "\n",
       "[53568 rows x 2 columns]"
      ]
     },
     "execution_count": 24,
     "metadata": {},
     "output_type": "execute_result"
    }
   ],
   "source": [
    "# Sanity check\n",
    "print(df_foehn.loc[df_foehn[\"date\"]< \"2019-08-31 23:00:00\", \"Foehn\"].value_counts(normalize=False, dropna=True))\n",
    "df_foehn.loc[df_foehn[\"date\"]< \"2019-08-31 23:00:00\",:]"
   ]
  },
  {
   "cell_type": "markdown",
   "metadata": {},
   "source": [
    "# Generate Climatology"
   ]
  },
  {
   "cell_type": "code",
   "execution_count": 11,
   "metadata": {
    "scrolled": true
   },
   "outputs": [],
   "source": [
    "# Create month and year column\n",
    "df_foehn_frequency = df_1983_2019.copy()\n",
    "df_foehn_frequency[\"month\"] = df_foehn_frequency[\"date\"].dt.month\n",
    "df_foehn_frequency[\"year\"] = df_foehn_frequency[\"date\"].dt.year"
   ]
  },
  {
   "cell_type": "code",
   "execution_count": 12,
   "metadata": {},
   "outputs": [],
   "source": [
    "# Group dataframe by dataset, ensemble, year, month, and prediction and calculate mean\n",
    "df_foehn_frequency = df_foehn_frequency[[\"year\", \"month\", \"Foehn\"]].groupby([\"year\", \"month\"], axis=0, as_index=False).mean()"
   ]
  },
  {
   "cell_type": "code",
   "execution_count": 13,
   "metadata": {},
   "outputs": [
    {
     "name": "stdout",
     "output_type": "stream",
     "text": [
      "Saved figure at: /home/chmony/Documents/Results/newgradient/Climatology_NorthFoehn.pdf\n"
     ]
    },
    {
     "data": {
      "image/png": "[encoded data removed]",
      "text/plain": [
       "<Figure size 1152x648 with 1 Axes>"
      ]
     },
     "metadata": {},
     "output_type": "display_data"
    }
   ],
   "source": [
    "plt.figure(figsize=(16,9))\n",
    "fig = sns.boxplot(x=\"month\", y=\"Foehn\", data=df_foehn_frequency, color=\"tab:blue\")\n",
    "\n",
    "MONTH_NAMES = [\"Jan\", \"Feb\", \"Mar\", \"Apr\", \"May\", \"Jun\", \"Jul\", \"Aug\", \"Sep\", \"Oct\", \"Nov\", \"Dez\"]\n",
    "fig.set_xticklabels(MONTH_NAMES);\n",
    "plt.xlabel(\"\")\n",
    "plt.ylabel(\"Monthly mean foehn frequency\")\n",
    "save_figure(\"Climatology_NorthFoehn\")\n"
   ]
  },
  {
   "cell_type": "markdown",
   "metadata": {},
   "source": [
    "# Write output"
   ]
  },
  {
   "cell_type": "code",
   "execution_count": 14,
   "metadata": {},
   "outputs": [],
   "source": [
    "df_foehn.to_csv(f\"data/FoehnData/{location}_foehn.csv\", index=False)"
   ]
  },
  {
   "cell_type": "markdown",
   "metadata": {},
   "source": [
    "# Make combined dataframe with foehn data"
   ]
  },
  {
   "cell_type": "code",
   "execution_count": 15,
   "metadata": {},
   "outputs": [],
   "source": [
    "df_ERA = pd.read_csv(\"data/MeteorologicalData/ERAI_data.csv.gz\", parse_dates=[\"date\"])"
   ]
  },
  {
   "cell_type": "code",
   "execution_count": 16,
   "metadata": {},
   "outputs": [],
   "source": [
    "df_foehn = df_foehn.dropna()"
   ]
  },
  {
   "cell_type": "code",
   "execution_count": 17,
   "metadata": {},
   "outputs": [],
   "source": [
    "df_ERA_merged = pd.merge(df_foehn, df_ERA, on=\"date\", how=\"inner\")"
   ]
  },
  {
   "cell_type": "code",
   "execution_count": 18,
   "metadata": {},
   "outputs": [],
   "source": [
    "df_ERA_merged.to_csv(f\"data/FoehnAndMeteorologicalData/ERAI_and_North_Foehn_{location}_data.csv.gz\", index=False)"
   ]
  },
  {
   "cell_type": "code",
   "execution_count": null,
   "metadata": {},
   "outputs": [],
   "source": []
  }
 ],
 "metadata": {
  "kernelspec": {
   "display_name": "Python 3",
   "language": "python",
   "name": "python3"
  },
  "language_info": {
   "codemirror_mode": {
    "name": "ipython",
    "version": 3
   },
   "file_extension": ".py",
   "mimetype": "text/x-python",
   "name": "python",
   "nbconvert_exporter": "python",
   "pygments_lexer": "ipython3",
   "version": "3.8.5"
  }
 },
 "nbformat": 4,
 "nbformat_minor": 4
}
