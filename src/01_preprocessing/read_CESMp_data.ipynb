{
 "cells": [
  {
   "cell_type": "code",
   "execution_count": 1,
   "metadata": {},
   "outputs": [],
   "source": [
    "%load_ext autoreload\n",
    "%autoreload 2"
   ]
  },
  {
   "cell_type": "code",
   "execution_count": 2,
   "metadata": {},
   "outputs": [
    {
     "name": "stdout",
     "output_type": "stream",
     "text": [
      "--- Avaliable variables ---\n",
      "Base directory: BASE_DIR\n",
      "Month names: MONTH_NAMES\n",
      "Bounding box coordinates: LON_MIN, LON_MAX, LAT_MIN, LAT_MAX\n",
      "ERAI coordinates: LONS_ERA, LATS_ERA\n",
      "CESM coordinates: LONS_CESM, LATS_CESM\n",
      "CESM slice: INDEX_CESM\n",
      "CESM coordinates for plotting (string): LONS_CESM_STRING, LATS_CESM_STRING\n"
     ]
    }
   ],
   "source": [
    "# Import packages\n",
    "import pandas as pd, numpy as np\n",
    "import dypy.netcdf as dn\n",
    "import dypy.intergrid as ig\n",
    "import seaborn as sns\n",
    "import matplotlib.pyplot as plt\n",
    "from scipy import ndimage\n",
    "\n",
    "# Custom functions\n",
    "from utils_CESM import *\n",
    "\n",
    "# Import constants from constants.py file in directory above\n",
    "import sys\n",
    "sys.path.append(\"..\")\n",
    "from constants import *"
   ]
  },
  {
   "cell_type": "markdown",
   "metadata": {},
   "source": [
    "# Define all CESM paths to read and check whether they exist"
   ]
  },
  {
   "cell_type": "code",
   "execution_count": 3,
   "metadata": {},
   "outputs": [
    {
     "name": "stdout",
     "output_type": "stream",
     "text": [
      "35.10 worked\r"
     ]
    }
   ],
   "source": [
    "# Create paths to all CESM files with 6 hourly resolution\n",
    "years = [str(year) for year in range(1991,2000+1)]\n",
    "ensemble_nr_list = [f\"00{i}\" if i < 10 else f\"0{i}\" for i in range(1,35+1)]\n",
    "paths = [f\"/net/litho/atmosdyn/INTEXseas/cesm/cesm112_LENS/b.e112.B20TRLENS.f09_g16.ethz.{ensemble_nr}/archive/atm/hist/b.e112.B20TRLENS.f09_g16.ethz.{ensemble_nr}.cam.h2.{year}-01-01-21600.nc\" for ensemble_nr in ensemble_nr_list for year in years]\n",
    "\n",
    "# Loop over all paths for ensemble members and years. Check whether they exist and reading works\n",
    "for i, path in enumerate(paths):\n",
    "    dn.read_var(path, \"hyam\")\n",
    "    print(f\"{i//10+1}.{i%10+1} worked\", end=\"\\r\")"
   ]
  },
  {
   "cell_type": "markdown",
   "metadata": {},
   "source": [
    "# Read CESM-p files"
   ]
  },
  {
   "cell_type": "code",
   "execution_count": 4,
   "metadata": {},
   "outputs": [
    {
     "name": "stdout",
     "output_type": "stream",
     "text": [
      "/net/litho/atmosdyn/INTEXseas/cesm/cesm112_LENS/b.e112.B20TRLENS.f09_g16.ethz.001/archive/atm/hist/b.e112.B20TRLENS.f09_g16.ethz.001.cam.h2.1991-01-01-21600.nc\n",
      "/net/litho/atmosdyn/INTEXseas/cesm/cesm112_LENS/b.e112.B20TRLENS.f09_g16.ethz.001/archive/atm/hist/b.e112.B20TRLENS.f09_g16.ethz.001.cam.h2.1992-01-01-21600.nc\n"
     ]
    }
   ],
   "source": [
    "rows = read_all_CESM_files(paths, INDEX_CESM, LATS_CESM_STRING, LONS_CESM_STRING)"
   ]
  },
  {
   "cell_type": "code",
   "execution_count": 5,
   "metadata": {},
   "outputs": [],
   "source": [
    "# Turn into pandas dataframe\n",
    "df_raw = pd.DataFrame(rows)"
   ]
  },
  {
   "cell_type": "markdown",
   "metadata": {},
   "source": [
    "# Post-Processing"
   ]
  },
  {
   "cell_type": "code",
   "execution_count": 6,
   "metadata": {},
   "outputs": [],
   "source": [
    "# Drop all columns which show missing values \n",
    "df = df_raw.copy()\n",
    "df = df.dropna(axis=1)"
   ]
  },
  {
   "cell_type": "code",
   "execution_count": 8,
   "metadata": {},
   "outputs": [
    {
     "name": "stdout",
     "output_type": "stream",
     "text": [
      "Length of ensemble member column:  511000\n",
      "Length of date column:  511000\n"
     ]
    },
    {
     "data": {
      "text/html": [
       "<div>\n",
       "<style scoped>\n",
       "    .dataframe tbody tr th:only-of-type {\n",
       "        vertical-align: middle;\n",
       "    }\n",
       "\n",
       "    .dataframe tbody tr th {\n",
       "        vertical-align: top;\n",
       "    }\n",
       "\n",
       "    .dataframe thead th {\n",
       "        text-align: right;\n",
       "    }\n",
       "</style>\n",
       "<table border=\"1\" class=\"dataframe\">\n",
       "  <thead>\n",
       "    <tr style=\"text-align: right;\">\n",
       "      <th></th>\n",
       "      <th>SLP_4287_0_sealevel</th>\n",
       "      <th>SLP_4287_125_sealevel</th>\n",
       "      <th>SLP_4287_250_sealevel</th>\n",
       "      <th>SLP_4287_375_sealevel</th>\n",
       "      <th>SLP_4287_500_sealevel</th>\n",
       "      <th>SLP_4287_625_sealevel</th>\n",
       "      <th>SLP_4287_750_sealevel</th>\n",
       "      <th>SLP_4287_875_sealevel</th>\n",
       "      <th>SLP_4287_1000_sealevel</th>\n",
       "      <th>SLP_4287_1125_sealevel</th>\n",
       "      <th>...</th>\n",
       "      <th>U_4947_625_850</th>\n",
       "      <th>U_4947_750_850</th>\n",
       "      <th>U_4947_875_850</th>\n",
       "      <th>U_4947_1000_850</th>\n",
       "      <th>U_4947_1125_850</th>\n",
       "      <th>U_4947_1250_850</th>\n",
       "      <th>U_4947_1375_850</th>\n",
       "      <th>U_4947_1500_850</th>\n",
       "      <th>date</th>\n",
       "      <th>ensemble</th>\n",
       "    </tr>\n",
       "  </thead>\n",
       "  <tbody>\n",
       "    <tr>\n",
       "      <th>0</th>\n",
       "      <td>1027.875366</td>\n",
       "      <td>1028.249023</td>\n",
       "      <td>1028.119629</td>\n",
       "      <td>1026.509277</td>\n",
       "      <td>1026.485229</td>\n",
       "      <td>1027.502930</td>\n",
       "      <td>1027.563843</td>\n",
       "      <td>1027.570801</td>\n",
       "      <td>1027.409180</td>\n",
       "      <td>1027.008667</td>\n",
       "      <td>...</td>\n",
       "      <td>0.182726</td>\n",
       "      <td>-0.334366</td>\n",
       "      <td>-1.207864</td>\n",
       "      <td>-1.537046</td>\n",
       "      <td>-1.513066</td>\n",
       "      <td>-1.571769</td>\n",
       "      <td>-1.543017</td>\n",
       "      <td>-1.652972</td>\n",
       "      <td>1991-01-01 00:00:00</td>\n",
       "      <td>E1</td>\n",
       "    </tr>\n",
       "    <tr>\n",
       "      <th>1</th>\n",
       "      <td>1029.803467</td>\n",
       "      <td>1030.449341</td>\n",
       "      <td>1029.541748</td>\n",
       "      <td>1028.484131</td>\n",
       "      <td>1028.848145</td>\n",
       "      <td>1029.079468</td>\n",
       "      <td>1029.063232</td>\n",
       "      <td>1029.083862</td>\n",
       "      <td>1028.906616</td>\n",
       "      <td>1028.601196</td>\n",
       "      <td>...</td>\n",
       "      <td>0.960574</td>\n",
       "      <td>1.241237</td>\n",
       "      <td>1.115772</td>\n",
       "      <td>1.066674</td>\n",
       "      <td>1.311498</td>\n",
       "      <td>1.349130</td>\n",
       "      <td>1.165220</td>\n",
       "      <td>0.619885</td>\n",
       "      <td>1991-01-01 06:00:00</td>\n",
       "      <td>E1</td>\n",
       "    </tr>\n",
       "    <tr>\n",
       "      <th>2</th>\n",
       "      <td>1030.819092</td>\n",
       "      <td>1030.908325</td>\n",
       "      <td>1030.025513</td>\n",
       "      <td>1029.426514</td>\n",
       "      <td>1029.475586</td>\n",
       "      <td>1029.454834</td>\n",
       "      <td>1029.430054</td>\n",
       "      <td>1029.554688</td>\n",
       "      <td>1029.671509</td>\n",
       "      <td>1029.631348</td>\n",
       "      <td>...</td>\n",
       "      <td>2.442867</td>\n",
       "      <td>3.359064</td>\n",
       "      <td>3.627144</td>\n",
       "      <td>2.981276</td>\n",
       "      <td>2.580138</td>\n",
       "      <td>2.444590</td>\n",
       "      <td>2.127206</td>\n",
       "      <td>1.334364</td>\n",
       "      <td>1991-01-01 12:00:00</td>\n",
       "      <td>E1</td>\n",
       "    </tr>\n",
       "    <tr>\n",
       "      <th>3</th>\n",
       "      <td>1033.883545</td>\n",
       "      <td>1033.190674</td>\n",
       "      <td>1032.149048</td>\n",
       "      <td>1031.638794</td>\n",
       "      <td>1031.257690</td>\n",
       "      <td>1031.035645</td>\n",
       "      <td>1030.946411</td>\n",
       "      <td>1031.173950</td>\n",
       "      <td>1031.435791</td>\n",
       "      <td>1031.125732</td>\n",
       "      <td>...</td>\n",
       "      <td>4.764948</td>\n",
       "      <td>5.511599</td>\n",
       "      <td>5.411247</td>\n",
       "      <td>4.374365</td>\n",
       "      <td>3.206755</td>\n",
       "      <td>2.412850</td>\n",
       "      <td>2.057547</td>\n",
       "      <td>1.867330</td>\n",
       "      <td>1991-01-01 18:00:00</td>\n",
       "      <td>E1</td>\n",
       "    </tr>\n",
       "    <tr>\n",
       "      <th>4</th>\n",
       "      <td>1035.513794</td>\n",
       "      <td>1034.349121</td>\n",
       "      <td>1032.994019</td>\n",
       "      <td>1032.683228</td>\n",
       "      <td>1031.957031</td>\n",
       "      <td>1031.711060</td>\n",
       "      <td>1031.614136</td>\n",
       "      <td>1032.110229</td>\n",
       "      <td>1031.929565</td>\n",
       "      <td>1031.497559</td>\n",
       "      <td>...</td>\n",
       "      <td>8.485958</td>\n",
       "      <td>8.428128</td>\n",
       "      <td>8.452509</td>\n",
       "      <td>7.947867</td>\n",
       "      <td>6.998540</td>\n",
       "      <td>6.017332</td>\n",
       "      <td>5.378965</td>\n",
       "      <td>4.801532</td>\n",
       "      <td>1991-01-02 00:00:00</td>\n",
       "      <td>E1</td>\n",
       "    </tr>\n",
       "  </tbody>\n",
       "</table>\n",
       "<p>5 rows × 1418 columns</p>\n",
       "</div>"
      ],
      "text/plain": [
       "   SLP_4287_0_sealevel  SLP_4287_125_sealevel  SLP_4287_250_sealevel  \\\n",
       "0          1027.875366            1028.249023            1028.119629   \n",
       "1          1029.803467            1030.449341            1029.541748   \n",
       "2          1030.819092            1030.908325            1030.025513   \n",
       "3          1033.883545            1033.190674            1032.149048   \n",
       "4          1035.513794            1034.349121            1032.994019   \n",
       "\n",
       "   SLP_4287_375_sealevel  SLP_4287_500_sealevel  SLP_4287_625_sealevel  \\\n",
       "0            1026.509277            1026.485229            1027.502930   \n",
       "1            1028.484131            1028.848145            1029.079468   \n",
       "2            1029.426514            1029.475586            1029.454834   \n",
       "3            1031.638794            1031.257690            1031.035645   \n",
       "4            1032.683228            1031.957031            1031.711060   \n",
       "\n",
       "   SLP_4287_750_sealevel  SLP_4287_875_sealevel  SLP_4287_1000_sealevel  \\\n",
       "0            1027.563843            1027.570801             1027.409180   \n",
       "1            1029.063232            1029.083862             1028.906616   \n",
       "2            1029.430054            1029.554688             1029.671509   \n",
       "3            1030.946411            1031.173950             1031.435791   \n",
       "4            1031.614136            1032.110229             1031.929565   \n",
       "\n",
       "   SLP_4287_1125_sealevel  ...  U_4947_625_850  U_4947_750_850  \\\n",
       "0             1027.008667  ...        0.182726       -0.334366   \n",
       "1             1028.601196  ...        0.960574        1.241237   \n",
       "2             1029.631348  ...        2.442867        3.359064   \n",
       "3             1031.125732  ...        4.764948        5.511599   \n",
       "4             1031.497559  ...        8.485958        8.428128   \n",
       "\n",
       "   U_4947_875_850  U_4947_1000_850  U_4947_1125_850  U_4947_1250_850  \\\n",
       "0       -1.207864        -1.537046        -1.513066        -1.571769   \n",
       "1        1.115772         1.066674         1.311498         1.349130   \n",
       "2        3.627144         2.981276         2.580138         2.444590   \n",
       "3        5.411247         4.374365         3.206755         2.412850   \n",
       "4        8.452509         7.947867         6.998540         6.017332   \n",
       "\n",
       "   U_4947_1375_850  U_4947_1500_850                date  ensemble  \n",
       "0        -1.543017        -1.652972 1991-01-01 00:00:00        E1  \n",
       "1         1.165220         0.619885 1991-01-01 06:00:00        E1  \n",
       "2         2.127206         1.334364 1991-01-01 12:00:00        E1  \n",
       "3         2.057547         1.867330 1991-01-01 18:00:00        E1  \n",
       "4         5.378965         4.801532 1991-01-02 00:00:00        E1  \n",
       "\n",
       "[5 rows x 1418 columns]"
      ]
     },
     "execution_count": 8,
     "metadata": {},
     "output_type": "execute_result"
    }
   ],
   "source": [
    "# Add date and ensemble member column\n",
    "dates, ensembles = create_date_and_ensemble_columns(years)\n",
    "df['date'] = dates\n",
    "df[\"ensemble\"] = ensembles\n",
    "df.head(5)"
   ]
  },
  {
   "cell_type": "code",
   "execution_count": null,
   "metadata": {},
   "outputs": [],
   "source": [
    "# Write outputs\n",
    "df.to_csv(os.path.join(BASE_DIR, \"data\", \"MeteorologicalData\", \"CESM_present_day.csv.gz\", index=False)"
   ]
  }
 ],
 "metadata": {
  "kernelspec": {
   "display_name": "Python 3",
   "language": "python",
   "name": "python3"
  },
  "language_info": {
   "codemirror_mode": {
    "name": "ipython",
    "version": 3
   },
   "file_extension": ".py",
   "mimetype": "text/x-python",
   "name": "python",
   "nbconvert_exporter": "python",
   "pygments_lexer": "ipython3",
   "version": "3.8.5"
  }
 },
 "nbformat": 4,
 "nbformat_minor": 4
}
