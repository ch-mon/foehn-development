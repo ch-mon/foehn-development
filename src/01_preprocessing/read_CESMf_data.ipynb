{
 "cells": [
  {
   "cell_type": "code",
   "execution_count": 1,
   "metadata": {},
   "outputs": [],
   "source": [
    "%load_ext autoreload\n",
    "%autoreload 2"
   ]
  },
  {
   "cell_type": "code",
   "execution_count": 2,
   "metadata": {},
   "outputs": [
    {
     "name": "stdout",
     "output_type": "stream",
     "text": [
      "--- Avaliable variables ---\n",
      "Base directory: BASE_DIR\n",
      "Month names: MONTH_NAMES\n",
      "Bounding box coordinates: LON_MIN, LON_MAX, LAT_MIN, LAT_MAX\n",
      "ERAI coordinates: LONS_ERA, LATS_ERA\n",
      "CESM coordinates: LONS_CESM, LATS_CESM\n",
      "CESM slice: INDEX_CESM\n",
      "CESM coordinates for plotting (string): LONS_CESM_STRING, LATS_CESM_STRING\n"
     ]
    }
   ],
   "source": [
    "# Import packages\n",
    "import pandas as pd, numpy as np\n",
    "import dypy.netcdf as dn\n",
    "import dypy.intergrid as ig\n",
    "import seaborn as sns\n",
    "import matplotlib.pyplot as plt\n",
    "from scipy import ndimage\n",
    "\n",
    "# Custom functions\n",
    "from utils_CESM import *\n",
    "\n",
    "# Import constants from constants.py file in directory above\n",
    "import sys\n",
    "sys.path.append(\"..\")\n",
    "from constants import *"
   ]
  },
  {
   "cell_type": "markdown",
   "metadata": {},
   "source": [
    "# Define all CESM paths to read and check whether they exist"
   ]
  },
  {
   "cell_type": "code",
   "execution_count": 3,
   "metadata": {},
   "outputs": [
    {
     "name": "stdout",
     "output_type": "stream",
     "text": [
      "35.10 worked\r"
     ]
    }
   ],
   "source": [
    "# Create paths to all CESM files with 6 hourly resolution\n",
    "years = [str(year) for year in range(2091,2100+1)]\n",
    "ensemble_nr_list = [f\"00{i}\" if i < 10 else f\"0{i}\" for i in range(1,35+1)]\n",
    "paths = [f\"/net/litho/atmosdyn/INTEXseas/cesm/cesm112_LENS/b.e112.BRCP85LENS.f09_g16.ethz.{ensemble_nr}/archive/atm/hist/b.e112.BRCP85LENS.f09_g16.ethz.{ensemble_nr}.cam.h2.{year}-01-01-21600.nc\" for ensemble_nr in ensemble_nr_list for year in years]\n",
    "\n",
    "# Loop over all paths for ensemble members and years. Check whether they exist and reading works\n",
    "for i, path in enumerate(paths):\n",
    "    dn.read_var(path, \"hyam\")\n",
    "    print(f\"{i//10+1}.{i%10+1} worked\", end=\"\\r\")"
   ]
  },
  {
   "cell_type": "markdown",
   "metadata": {},
   "source": [
    "# Read CESM-p files"
   ]
  },
  {
   "cell_type": "code",
   "execution_count": 4,
   "metadata": {},
   "outputs": [
    {
     "name": "stdout",
     "output_type": "stream",
     "text": [
      "/net/litho/atmosdyn/INTEXseas/cesm/cesm112_LENS/b.e112.BRCP85LENS.f09_g16.ethz.001/archive/atm/hist/b.e112.BRCP85LENS.f09_g16.ethz.001.cam.h2.2091-01-01-21600.nc\n",
      "/net/litho/atmosdyn/INTEXseas/cesm/cesm112_LENS/b.e112.BRCP85LENS.f09_g16.ethz.001/archive/atm/hist/b.e112.BRCP85LENS.f09_g16.ethz.001.cam.h2.2092-01-01-21600.nc\n"
     ]
    }
   ],
   "source": [
    "rows = read_all_CESM_files(paths, INDEX_CESM, LATS_CESM_STRING, LONS_CESM_STRING)"
   ]
  },
  {
   "cell_type": "code",
   "execution_count": 5,
   "metadata": {},
   "outputs": [],
   "source": [
    "# Turn into pandas dataframe\n",
    "df_raw = pd.DataFrame(rows)"
   ]
  },
  {
   "cell_type": "markdown",
   "metadata": {},
   "source": [
    "# Post-Processing"
   ]
  },
  {
   "cell_type": "code",
   "execution_count": 6,
   "metadata": {},
   "outputs": [],
   "source": [
    "# Drop all columns which show missing values \n",
    "df = df_raw.copy()\n",
    "df = df.dropna(axis=1)"
   ]
  },
  {
   "cell_type": "code",
   "execution_count": 8,
   "metadata": {},
   "outputs": [
    {
     "name": "stdout",
     "output_type": "stream",
     "text": [
      "Length of ensemble member column:  511000\n",
      "Length of date column:  511000\n"
     ]
    },
    {
     "data": {
      "text/html": [
       "<div>\n",
       "<style scoped>\n",
       "    .dataframe tbody tr th:only-of-type {\n",
       "        vertical-align: middle;\n",
       "    }\n",
       "\n",
       "    .dataframe tbody tr th {\n",
       "        vertical-align: top;\n",
       "    }\n",
       "\n",
       "    .dataframe thead th {\n",
       "        text-align: right;\n",
       "    }\n",
       "</style>\n",
       "<table border=\"1\" class=\"dataframe\">\n",
       "  <thead>\n",
       "    <tr style=\"text-align: right;\">\n",
       "      <th></th>\n",
       "      <th>SLP_4287_0_sealevel</th>\n",
       "      <th>SLP_4287_125_sealevel</th>\n",
       "      <th>SLP_4287_250_sealevel</th>\n",
       "      <th>SLP_4287_375_sealevel</th>\n",
       "      <th>SLP_4287_500_sealevel</th>\n",
       "      <th>SLP_4287_625_sealevel</th>\n",
       "      <th>SLP_4287_750_sealevel</th>\n",
       "      <th>SLP_4287_875_sealevel</th>\n",
       "      <th>SLP_4287_1000_sealevel</th>\n",
       "      <th>SLP_4287_1125_sealevel</th>\n",
       "      <th>...</th>\n",
       "      <th>U_4947_625_850</th>\n",
       "      <th>U_4947_750_850</th>\n",
       "      <th>U_4947_875_850</th>\n",
       "      <th>U_4947_1000_850</th>\n",
       "      <th>U_4947_1125_850</th>\n",
       "      <th>U_4947_1250_850</th>\n",
       "      <th>U_4947_1375_850</th>\n",
       "      <th>U_4947_1500_850</th>\n",
       "      <th>date</th>\n",
       "      <th>ensemble</th>\n",
       "    </tr>\n",
       "  </thead>\n",
       "  <tbody>\n",
       "    <tr>\n",
       "      <th>0</th>\n",
       "      <td>1009.295166</td>\n",
       "      <td>1009.765259</td>\n",
       "      <td>1009.547363</td>\n",
       "      <td>1009.128174</td>\n",
       "      <td>1009.923889</td>\n",
       "      <td>1010.331726</td>\n",
       "      <td>1010.205566</td>\n",
       "      <td>1009.546875</td>\n",
       "      <td>1008.218140</td>\n",
       "      <td>1007.883179</td>\n",
       "      <td>...</td>\n",
       "      <td>3.231951</td>\n",
       "      <td>3.379141</td>\n",
       "      <td>2.935905</td>\n",
       "      <td>2.397257</td>\n",
       "      <td>2.454051</td>\n",
       "      <td>2.680598</td>\n",
       "      <td>2.839719</td>\n",
       "      <td>2.758271</td>\n",
       "      <td>2091-01-01 00:00:00</td>\n",
       "      <td>E1</td>\n",
       "    </tr>\n",
       "    <tr>\n",
       "      <th>1</th>\n",
       "      <td>1008.937256</td>\n",
       "      <td>1009.288574</td>\n",
       "      <td>1009.178772</td>\n",
       "      <td>1008.663513</td>\n",
       "      <td>1009.649475</td>\n",
       "      <td>1010.830261</td>\n",
       "      <td>1011.312805</td>\n",
       "      <td>1011.196045</td>\n",
       "      <td>1010.479675</td>\n",
       "      <td>1010.186462</td>\n",
       "      <td>...</td>\n",
       "      <td>3.080384</td>\n",
       "      <td>3.619980</td>\n",
       "      <td>3.709461</td>\n",
       "      <td>3.157850</td>\n",
       "      <td>2.520620</td>\n",
       "      <td>1.831804</td>\n",
       "      <td>1.249965</td>\n",
       "      <td>1.152587</td>\n",
       "      <td>2091-01-01 06:00:00</td>\n",
       "      <td>E1</td>\n",
       "    </tr>\n",
       "    <tr>\n",
       "      <th>2</th>\n",
       "      <td>1007.777649</td>\n",
       "      <td>1007.934937</td>\n",
       "      <td>1007.951904</td>\n",
       "      <td>1007.726379</td>\n",
       "      <td>1008.193970</td>\n",
       "      <td>1009.104431</td>\n",
       "      <td>1010.020081</td>\n",
       "      <td>1010.550049</td>\n",
       "      <td>1010.655701</td>\n",
       "      <td>1010.970947</td>\n",
       "      <td>...</td>\n",
       "      <td>2.182440</td>\n",
       "      <td>3.041740</td>\n",
       "      <td>3.503407</td>\n",
       "      <td>3.492724</td>\n",
       "      <td>2.137240</td>\n",
       "      <td>0.898738</td>\n",
       "      <td>0.349062</td>\n",
       "      <td>0.346452</td>\n",
       "      <td>2091-01-01 12:00:00</td>\n",
       "      <td>E1</td>\n",
       "    </tr>\n",
       "    <tr>\n",
       "      <th>3</th>\n",
       "      <td>1010.049438</td>\n",
       "      <td>1008.559814</td>\n",
       "      <td>1007.109375</td>\n",
       "      <td>1006.558411</td>\n",
       "      <td>1006.643433</td>\n",
       "      <td>1006.876099</td>\n",
       "      <td>1007.414673</td>\n",
       "      <td>1008.425781</td>\n",
       "      <td>1009.267578</td>\n",
       "      <td>1010.338196</td>\n",
       "      <td>...</td>\n",
       "      <td>-1.309341</td>\n",
       "      <td>0.130755</td>\n",
       "      <td>1.433517</td>\n",
       "      <td>2.100199</td>\n",
       "      <td>1.684203</td>\n",
       "      <td>0.707435</td>\n",
       "      <td>0.188749</td>\n",
       "      <td>0.827695</td>\n",
       "      <td>2091-01-01 18:00:00</td>\n",
       "      <td>E1</td>\n",
       "    </tr>\n",
       "    <tr>\n",
       "      <th>4</th>\n",
       "      <td>1009.893677</td>\n",
       "      <td>1009.016968</td>\n",
       "      <td>1006.854065</td>\n",
       "      <td>1005.185181</td>\n",
       "      <td>1004.311646</td>\n",
       "      <td>1003.264526</td>\n",
       "      <td>1003.018738</td>\n",
       "      <td>1003.509460</td>\n",
       "      <td>1004.157471</td>\n",
       "      <td>1005.455688</td>\n",
       "      <td>...</td>\n",
       "      <td>-5.073125</td>\n",
       "      <td>-3.727069</td>\n",
       "      <td>-2.602715</td>\n",
       "      <td>-1.672456</td>\n",
       "      <td>-1.204065</td>\n",
       "      <td>-1.679406</td>\n",
       "      <td>-1.851561</td>\n",
       "      <td>-1.163715</td>\n",
       "      <td>2091-01-02 00:00:00</td>\n",
       "      <td>E1</td>\n",
       "    </tr>\n",
       "  </tbody>\n",
       "</table>\n",
       "<p>5 rows × 1427 columns</p>\n",
       "</div>"
      ],
      "text/plain": [
       "   SLP_4287_0_sealevel  SLP_4287_125_sealevel  SLP_4287_250_sealevel  \\\n",
       "0          1009.295166            1009.765259            1009.547363   \n",
       "1          1008.937256            1009.288574            1009.178772   \n",
       "2          1007.777649            1007.934937            1007.951904   \n",
       "3          1010.049438            1008.559814            1007.109375   \n",
       "4          1009.893677            1009.016968            1006.854065   \n",
       "\n",
       "   SLP_4287_375_sealevel  SLP_4287_500_sealevel  SLP_4287_625_sealevel  \\\n",
       "0            1009.128174            1009.923889            1010.331726   \n",
       "1            1008.663513            1009.649475            1010.830261   \n",
       "2            1007.726379            1008.193970            1009.104431   \n",
       "3            1006.558411            1006.643433            1006.876099   \n",
       "4            1005.185181            1004.311646            1003.264526   \n",
       "\n",
       "   SLP_4287_750_sealevel  SLP_4287_875_sealevel  SLP_4287_1000_sealevel  \\\n",
       "0            1010.205566            1009.546875             1008.218140   \n",
       "1            1011.312805            1011.196045             1010.479675   \n",
       "2            1010.020081            1010.550049             1010.655701   \n",
       "3            1007.414673            1008.425781             1009.267578   \n",
       "4            1003.018738            1003.509460             1004.157471   \n",
       "\n",
       "   SLP_4287_1125_sealevel  ...  U_4947_625_850  U_4947_750_850  \\\n",
       "0             1007.883179  ...        3.231951        3.379141   \n",
       "1             1010.186462  ...        3.080384        3.619980   \n",
       "2             1010.970947  ...        2.182440        3.041740   \n",
       "3             1010.338196  ...       -1.309341        0.130755   \n",
       "4             1005.455688  ...       -5.073125       -3.727069   \n",
       "\n",
       "   U_4947_875_850  U_4947_1000_850  U_4947_1125_850  U_4947_1250_850  \\\n",
       "0        2.935905         2.397257         2.454051         2.680598   \n",
       "1        3.709461         3.157850         2.520620         1.831804   \n",
       "2        3.503407         3.492724         2.137240         0.898738   \n",
       "3        1.433517         2.100199         1.684203         0.707435   \n",
       "4       -2.602715        -1.672456        -1.204065        -1.679406   \n",
       "\n",
       "   U_4947_1375_850  U_4947_1500_850                date  ensemble  \n",
       "0         2.839719         2.758271 2091-01-01 00:00:00        E1  \n",
       "1         1.249965         1.152587 2091-01-01 06:00:00        E1  \n",
       "2         0.349062         0.346452 2091-01-01 12:00:00        E1  \n",
       "3         0.188749         0.827695 2091-01-01 18:00:00        E1  \n",
       "4        -1.851561        -1.163715 2091-01-02 00:00:00        E1  \n",
       "\n",
       "[5 rows x 1427 columns]"
      ]
     },
     "execution_count": 8,
     "metadata": {},
     "output_type": "execute_result"
    }
   ],
   "source": [
    "# Add date and ensemble member column\n",
    "dates, ensembles = create_date_and_ensemble_columns(years)\n",
    "df['date'] = dates\n",
    "df[\"ensemble\"] = ensembles\n",
    "df.head(5)"
   ]
  },
  {
   "cell_type": "code",
   "execution_count": null,
   "metadata": {},
   "outputs": [],
   "source": [
    "# Write outputs\n",
    "df.to_csv(os.path.join(BASE_DIR, \"data\", \"MeteorologicalData\", \"CESM_future_day.csv.gz\", index=False)"
   ]
  }
 ],
 "metadata": {
  "kernelspec": {
   "display_name": "Python 3",
   "language": "python",
   "name": "python3"
  },
  "language_info": {
   "codemirror_mode": {
    "name": "ipython",
    "version": 3
   },
   "file_extension": ".py",
   "mimetype": "text/x-python",
   "name": "python",
   "nbconvert_exporter": "python",
   "pygments_lexer": "ipython3",
   "version": "3.8.5"
  }
 },
 "nbformat": 4,
 "nbformat_minor": 4
}
