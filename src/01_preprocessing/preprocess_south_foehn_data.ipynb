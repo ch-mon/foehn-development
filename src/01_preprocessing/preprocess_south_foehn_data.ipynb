{
 "cells": [
  {
   "cell_type": "code",
   "execution_count": 1,
   "metadata": {},
   "outputs": [],
   "source": [
    "import pandas as pd\n",
    "import numpy as np\n",
    "import matplotlib.pyplot as plt\n",
    "import seaborn as sns\n",
    "sns.set_style(\"whitegrid\")\n",
    "from utils import *\n",
    "plt.rcParams.update({'font.size': 20})"
   ]
  },
  {
   "cell_type": "markdown",
   "metadata": {},
   "source": [
    "# Read South Foehn datasets and stack"
   ]
  },
  {
   "cell_type": "code",
   "execution_count": 2,
   "metadata": {},
   "outputs": [],
   "source": [
    "location=\"ALT\""
   ]
  },
  {
   "cell_type": "code",
   "execution_count": 3,
   "metadata": {},
   "outputs": [],
   "source": [
    "df_1981_1990 = pd.read_csv(f\"data/FoehnData/{location}_1981_1990.dat\", delimiter=\"\\t\", header=1)\n",
    "df_1981_1990[\"date\"] = pd.to_datetime(df_1981_1990[\"Datumsangabe_Zeit\"], format='%Y%m%d %H:%M')\n",
    "df_1981_1990 = df_1981_1990[[\"date\", \"Foehn\"]]"
   ]
  },
  {
   "cell_type": "code",
   "execution_count": 4,
   "metadata": {},
   "outputs": [],
   "source": [
    "df_1983_2019 = pd.read_csv(f\"data/FoehnData/{location}_1983_2019.dat\", delimiter=\"|\", skiprows=1, header=0, names=range(1,10), low_memory=False)\n",
    "df_1983_2019[\"date\"] = pd.to_datetime(df_1983_2019[2], format='%Y%m%d%H%M%S')\n",
    "df_1983_2019[\"Foehn\"] = df_1983_2019[4]\n",
    "df_1983_2019 = df_1983_2019[[\"date\", \"Foehn\"]]"
   ]
  },
  {
   "cell_type": "code",
   "execution_count": 5,
   "metadata": {},
   "outputs": [],
   "source": [
    "# Stack dataframes. Take the years 1981 and 1982 from df_1981_1990 and the remainder from df_1983_2019\n",
    "df_1981_2019 = pd.concat([df_1981_1990.loc[df_1981_1990[\"date\"] < np.datetime64(\"1983-01-01 00:00:00\"),:], df_1983_2019], axis=0, ignore_index=True)\n",
    "\n",
    "# Drop NaT values (due to some blank rows inn 1983-2019 dataframe)\n",
    "df_1981_2019.dropna(inplace=True, subset=[\"date\"])"
   ]
  },
  {
   "cell_type": "code",
   "execution_count": 6,
   "metadata": {},
   "outputs": [],
   "source": [
    "# Ensure continuoes and consistent values in the \"date\" column\n",
    "df_timeframe = pd.Series(pd.date_range(start = \"1981-01-01 00:00:00\", end=\"2019-12-31 23:50:00\", freq=\"10min\"), name=\"date\")\n",
    "df_1981_2019 = pd.merge(df_timeframe, df_1981_2019, on=\"date\", how=\"left\", validate=\"one_to_one\")"
   ]
  },
  {
   "cell_type": "markdown",
   "metadata": {},
   "source": [
    "# Preprocess data"
   ]
  },
  {
   "cell_type": "code",
   "execution_count": 7,
   "metadata": {},
   "outputs": [],
   "source": [
    "# Set all values in Foehn which are larger than 2 to np.NaN\n",
    "df_1981_2019[\"Foehn\"] = df_1981_2019[\"Foehn\"].mask(df_1981_2019[\"Foehn\"] >2)\n",
    "\n",
    "# Set all Foehn values (Foehn==2) to 1 (i.e. treat Mischluft as normal foehn)\n",
    "df_1981_2019[\"Foehn\"] = df_1981_2019[\"Foehn\"].mask(df_1981_2019[\"Foehn\"] == 2.0, 1.0)"
   ]
  },
  {
   "cell_type": "code",
   "execution_count": 47,
   "metadata": {},
   "outputs": [
    {
     "name": "stdout",
     "output_type": "stream",
     "text": [
      "466.707163803938\n",
      "2387\n"
     ]
    }
   ],
   "source": [
    "# Calculate mean duration and number of foehn events\n",
    "counter = 0\n",
    "foehn_durations = []\n",
    "for i in range(1,len(df_1981_2019.index)-1):\n",
    "    print(i, end=\"\\r\")\n",
    "    if df_1981_2019.loc[i, \"Foehn\"] == 1: \n",
    "        counter +=1\n",
    "    elif df_1981_2019.loc[i-1, \"Foehn\"] == 1 and df_1981_2019.loc[i, \"Foehn\"] == 0 and df_1981_2019.loc[i+1, \"Foehn\"] == 1:\n",
    "        counter +=1\n",
    "    else:\n",
    "        if counter:\n",
    "            foehn_durations.append(counter*10)\n",
    "            counter = 0\n",
    "print(np.array(foehn_durations).mean())\n",
    "print(len(foehn_durations)) "
   ]
  },
  {
   "cell_type": "code",
   "execution_count": 8,
   "metadata": {},
   "outputs": [],
   "source": [
    "# Define rolling window of length 6. If at least 4 dates show Foehn say there is foehn prevalent, otherwise not (refer to Gutermann et. al.(2013))\n",
    "# Allow max 2 missing values (-> min_periods=4). Otherwise set entry to np.NaN\n",
    "foehn_rolling_window=df_1981_2019[\"Foehn\"].rolling(window=6, min_periods=4).sum().shift(-3)\n",
    "foehn_new_representation = (foehn_rolling_window >= 4).astype(int)\n",
    "foehn_new_representation.loc[foehn_rolling_window.isnull()] = np.NaN\n",
    "\n",
    "df_rolling= df_1981_2019.copy()\n",
    "df_rolling[\"Foehn\"]= foehn_new_representation"
   ]
  },
  {
   "cell_type": "code",
   "execution_count": 9,
   "metadata": {},
   "outputs": [],
   "source": [
    "# Keep only timestamps at full hour and where hour equals 0,6,12 or 18\n",
    "date_mask = (df_rolling[\"date\"].dt.minute==0) & \\\n",
    "            ((df_rolling[\"date\"].dt.hour == 0) | \n",
    "            (df_rolling[\"date\"].dt.hour == 6) |\n",
    "            (df_rolling[\"date\"].dt.hour == 12) |\n",
    "            (df_rolling[\"date\"].dt.hour == 18))\n",
    "df_foehn =df_rolling.loc[date_mask]"
   ]
  },
  {
   "cell_type": "code",
   "execution_count": 22,
   "metadata": {},
   "outputs": [
    {
     "name": "stdout",
     "output_type": "stream",
     "text": [
      "0.0    52307\n",
      "1.0     2959\n",
      "Name: Foehn, dtype: int64\n"
     ]
    },
    {
     "data": {
      "text/html": [
       "<div>\n",
       "<style scoped>\n",
       "    .dataframe tbody tr th:only-of-type {\n",
       "        vertical-align: middle;\n",
       "    }\n",
       "\n",
       "    .dataframe tbody tr th {\n",
       "        vertical-align: top;\n",
       "    }\n",
       "\n",
       "    .dataframe thead th {\n",
       "        text-align: right;\n",
       "    }\n",
       "</style>\n",
       "<table border=\"1\" class=\"dataframe\">\n",
       "  <thead>\n",
       "    <tr style=\"text-align: right;\">\n",
       "      <th></th>\n",
       "      <th>date</th>\n",
       "      <th>Foehn</th>\n",
       "    </tr>\n",
       "  </thead>\n",
       "  <tbody>\n",
       "    <tr>\n",
       "      <th>0</th>\n",
       "      <td>1981-01-01 00:00:00</td>\n",
       "      <td>NaN</td>\n",
       "    </tr>\n",
       "    <tr>\n",
       "      <th>36</th>\n",
       "      <td>1981-01-01 06:00:00</td>\n",
       "      <td>NaN</td>\n",
       "    </tr>\n",
       "    <tr>\n",
       "      <th>72</th>\n",
       "      <td>1981-01-01 12:00:00</td>\n",
       "      <td>NaN</td>\n",
       "    </tr>\n",
       "    <tr>\n",
       "      <th>108</th>\n",
       "      <td>1981-01-01 18:00:00</td>\n",
       "      <td>NaN</td>\n",
       "    </tr>\n",
       "    <tr>\n",
       "      <th>144</th>\n",
       "      <td>1981-01-02 00:00:00</td>\n",
       "      <td>NaN</td>\n",
       "    </tr>\n",
       "    <tr>\n",
       "      <th>...</th>\n",
       "      <td>...</td>\n",
       "      <td>...</td>\n",
       "    </tr>\n",
       "    <tr>\n",
       "      <th>2033388</th>\n",
       "      <td>2019-08-30 18:00:00</td>\n",
       "      <td>0.0</td>\n",
       "    </tr>\n",
       "    <tr>\n",
       "      <th>2033424</th>\n",
       "      <td>2019-08-31 00:00:00</td>\n",
       "      <td>0.0</td>\n",
       "    </tr>\n",
       "    <tr>\n",
       "      <th>2033460</th>\n",
       "      <td>2019-08-31 06:00:00</td>\n",
       "      <td>0.0</td>\n",
       "    </tr>\n",
       "    <tr>\n",
       "      <th>2033496</th>\n",
       "      <td>2019-08-31 12:00:00</td>\n",
       "      <td>0.0</td>\n",
       "    </tr>\n",
       "    <tr>\n",
       "      <th>2033532</th>\n",
       "      <td>2019-08-31 18:00:00</td>\n",
       "      <td>1.0</td>\n",
       "    </tr>\n",
       "  </tbody>\n",
       "</table>\n",
       "<p>56488 rows × 2 columns</p>\n",
       "</div>"
      ],
      "text/plain": [
       "                       date  Foehn\n",
       "0       1981-01-01 00:00:00    NaN\n",
       "36      1981-01-01 06:00:00    NaN\n",
       "72      1981-01-01 12:00:00    NaN\n",
       "108     1981-01-01 18:00:00    NaN\n",
       "144     1981-01-02 00:00:00    NaN\n",
       "...                     ...    ...\n",
       "2033388 2019-08-30 18:00:00    0.0\n",
       "2033424 2019-08-31 00:00:00    0.0\n",
       "2033460 2019-08-31 06:00:00    0.0\n",
       "2033496 2019-08-31 12:00:00    0.0\n",
       "2033532 2019-08-31 18:00:00    1.0\n",
       "\n",
       "[56488 rows x 2 columns]"
      ]
     },
     "execution_count": 22,
     "metadata": {},
     "output_type": "execute_result"
    }
   ],
   "source": [
    "# Sanity check\n",
    "print(df_foehn.loc[df_foehn[\"date\"]< \"2019-08-31 23:00:00\", \"Foehn\"].value_counts(normalize=False, dropna=True))\n",
    "df_foehn.loc[df_foehn[\"date\"]< \"2019-08-31 23:00:00\",:]"
   ]
  },
  {
   "cell_type": "code",
   "execution_count": null,
   "metadata": {},
   "outputs": [],
   "source": []
  },
  {
   "cell_type": "code",
   "execution_count": null,
   "metadata": {},
   "outputs": [],
   "source": []
  },
  {
   "cell_type": "markdown",
   "metadata": {},
   "source": [
    "# Generate Climatology"
   ]
  },
  {
   "cell_type": "code",
   "execution_count": 18,
   "metadata": {
    "scrolled": true
   },
   "outputs": [],
   "source": [
    "# Create month and year column\n",
    "df_foehn_frequency = df_1981_2019.copy()\n",
    "df_foehn_frequency[\"month\"] = df_foehn_frequency[\"date\"].dt.month\n",
    "df_foehn_frequency[\"year\"] = df_foehn_frequency[\"date\"].dt.year"
   ]
  },
  {
   "cell_type": "code",
   "execution_count": 19,
   "metadata": {},
   "outputs": [],
   "source": [
    "# Group dataframe by dataset, ensemble, year, month, and prediction and calculate mean\n",
    "df_foehn_frequency = df_foehn_frequency[[\"year\", \"month\", \"Foehn\"]].groupby([\"year\", \"month\"], axis=0, as_index=False).mean()"
   ]
  },
  {
   "cell_type": "code",
   "execution_count": 32,
   "metadata": {},
   "outputs": [
    {
     "name": "stdout",
     "output_type": "stream",
     "text": [
      "Saved figure at: /home/chmony/Documents/Results/newgradient/Climatology_SouthFoehn.pdf\n"
     ]
    },
    {
     "data": {
      "image/png": "[encoded data removed]",
      "text/plain": [
       "<Figure size 1152x648 with 1 Axes>"
      ]
     },
     "metadata": {},
     "output_type": "display_data"
    }
   ],
   "source": [
    "plt.figure(figsize=(16,9))\n",
    "fig = sns.boxplot(x=\"month\", y=\"Foehn\", data=df_foehn_frequency, color=\"tab:blue\")\n",
    "\n",
    "MONTH_NAMES = [\"Jan\", \"Feb\", \"Mar\", \"Apr\", \"May\", \"Jun\", \"Jul\", \"Aug\", \"Sep\", \"Oct\", \"Nov\", \"Dez\"]\n",
    "fig.set_xticklabels(MONTH_NAMES);\n",
    "plt.xlabel(\"\")\n",
    "plt.ylabel(\"Monthly mean foehn frequency\")\n",
    "save_figure(\"Climatology_SouthFoehn\")"
   ]
  },
  {
   "cell_type": "markdown",
   "metadata": {},
   "source": [
    "# Write output"
   ]
  },
  {
   "cell_type": "code",
   "execution_count": 23,
   "metadata": {},
   "outputs": [],
   "source": [
    "df_foehn.to_csv(f\"data/FoehnData/{location}_foehn.csv\", index=False)"
   ]
  }
 ],
 "metadata": {
  "kernelspec": {
   "display_name": "Python 3",
   "language": "python",
   "name": "python3"
  },
  "language_info": {
   "codemirror_mode": {
    "name": "ipython",
    "version": 3
   },
   "file_extension": ".py",
   "mimetype": "text/x-python",
   "name": "python",
   "nbconvert_exporter": "python",
   "pygments_lexer": "ipython3",
   "version": "3.8.5"
  }
 },
 "nbformat": 4,
 "nbformat_minor": 4
}
