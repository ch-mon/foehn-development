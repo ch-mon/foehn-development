{
 "cells": [
  {
   "cell_type": "code",
   "execution_count": 1,
   "metadata": {},
   "outputs": [],
   "source": [
    "import pandas as pd\n",
    "import numpy as np\n",
    "import matplotlib.pyplot as plt\n",
    "import seaborn as sns\n",
    "import os \n",
    "\n",
    "# Custom functions\n",
    "from utils import *\n",
    "\n",
    "# Set style\n",
    "sns.set_style(\"whitegrid\")\n",
    "plt.rcParams.update({'font.size': 20, 'figure.figsize': (16,9)})"
   ]
  },
  {
   "cell_type": "markdown",
   "metadata": {},
   "source": [
    "# Define constants"
   ]
  },
  {
   "cell_type": "code",
   "execution_count": 2,
   "metadata": {},
   "outputs": [
    {
     "name": "stdout",
     "output_type": "stream",
     "text": [
      "/net/litho/atmosdyn2/chmony/develop/FoehnDevelopment\n"
     ]
    }
   ],
   "source": [
    "# Get base directory which is two levels up\n",
    "BASE_DIR = os.path.dirname(os.path.dirname(os.getcwd())) \n",
    "print(BASE_DIR)"
   ]
  },
  {
   "cell_type": "markdown",
   "metadata": {},
   "source": [
    "# Read North Foehn datasets and stack"
   ]
  },
  {
   "cell_type": "code",
   "execution_count": 3,
   "metadata": {},
   "outputs": [],
   "source": [
    "location = \"LUG\" # \"PIO\" or \"LUG\""
   ]
  },
  {
   "cell_type": "code",
   "execution_count": 4,
   "metadata": {},
   "outputs": [],
   "source": [
    "# Read first timeperiod (1983-2016) and preprocess\n",
    "df_1983_2016 = pd.read_csv(os.path.join(BASE_DIR, f\"data/FoehnData/{location}_1983_2016.txt\"), delimiter=\",\", header=0)\n",
    "df_1983_2016[\"Date\"] = pd.to_datetime(df_1983_2016[\"Date\"], format='%Y%m%d%H%M')\n",
    "df_1983_2016.rename(columns= {\"Date\": \"date\", \"Foehn Index\": \"Foehn\"}, inplace=True)"
   ]
  },
  {
   "cell_type": "code",
   "execution_count": 5,
   "metadata": {},
   "outputs": [],
   "source": [
    "# Read second timeperiod (2017-2019) and preprocess\n",
    "df_2017_2019 = pd.read_csv(os.path.join(BASE_DIR, f\"data/FoehnData/{location}_2017_2019.txt\"), delimiter=\";\", skiprows=2, header=0)\n",
    "df_2017_2019[\"time\"] = pd.to_datetime(df_2017_2019[\"time\"], format='%Y%m%d%H%M')\n",
    "df_2017_2019.rename(columns= {\"time\": \"date\", \"wcc006s0\": \"Foehn\"}, inplace=True)\n",
    "df_2017_2019 = df_2017_2019[[\"date\", \"Foehn\"]]"
   ]
  },
  {
   "cell_type": "code",
   "execution_count": 6,
   "metadata": {},
   "outputs": [],
   "source": [
    "# Stack dataframes\n",
    "df_1983_2019 = pd.concat([df_1983_2016, df_2017_2019], axis=0, ignore_index=True)"
   ]
  },
  {
   "cell_type": "code",
   "execution_count": 7,
   "metadata": {},
   "outputs": [],
   "source": [
    "# Ensure continuous and consistent values in the \"date\" column\n",
    "df_timeframe = pd.Series(pd.date_range(start = \"1983-01-01 00:00:00\", end=\"2019-12-31 23:50:00\", freq=\"10min\"), name=\"date\")\n",
    "df_1983_2019 = pd.merge(df_timeframe, df_1983_2019, on=\"date\", how=\"left\", validate=\"one_to_one\")"
   ]
  },
  {
   "cell_type": "markdown",
   "metadata": {},
   "source": [
    "# Preprocess data"
   ]
  },
  {
   "cell_type": "code",
   "execution_count": 8,
   "metadata": {},
   "outputs": [],
   "source": [
    "# Remove \"-\" from Foehn column and transform type to float\n",
    "df_1983_2019[\"Foehn\"] = df_1983_2019[\"Foehn\"].mask(df_1983_2019[\"Foehn\"] ==\"-\", np.NaN)\n",
    "df_1983_2019[\"Foehn\"] = df_1983_2019[\"Foehn\"].astype(float)\n",
    "\n",
    "# Set all Foehn values (Foehn==2) to 1 (i.e. treat mixed-foehn as normal foehn)\n",
    "df_1983_2019[\"Foehn\"] = df_1983_2019[\"Foehn\"].mask(df_1983_2019[\"Foehn\"] == 2.0, 1.0)"
   ]
  },
  {
   "cell_type": "code",
   "execution_count": 9,
   "metadata": {},
   "outputs": [
    {
     "name": "stdout",
     "output_type": "stream",
     "text": [
      "0.0    50481\n",
      "1.0     3533\n",
      "Name: Foehn, dtype: int64\n"
     ]
    },
    {
     "data": {
      "text/html": [
       "<div>\n",
       "<style scoped>\n",
       "    .dataframe tbody tr th:only-of-type {\n",
       "        vertical-align: middle;\n",
       "    }\n",
       "\n",
       "    .dataframe tbody tr th {\n",
       "        vertical-align: top;\n",
       "    }\n",
       "\n",
       "    .dataframe thead th {\n",
       "        text-align: right;\n",
       "    }\n",
       "</style>\n",
       "<table border=\"1\" class=\"dataframe\">\n",
       "  <thead>\n",
       "    <tr style=\"text-align: right;\">\n",
       "      <th></th>\n",
       "      <th>date</th>\n",
       "      <th>Foehn</th>\n",
       "    </tr>\n",
       "  </thead>\n",
       "  <tbody>\n",
       "    <tr>\n",
       "      <th>0</th>\n",
       "      <td>1983-01-01 00:00:00</td>\n",
       "      <td>0.0</td>\n",
       "    </tr>\n",
       "    <tr>\n",
       "      <th>36</th>\n",
       "      <td>1983-01-01 06:00:00</td>\n",
       "      <td>0.0</td>\n",
       "    </tr>\n",
       "    <tr>\n",
       "      <th>72</th>\n",
       "      <td>1983-01-01 12:00:00</td>\n",
       "      <td>0.0</td>\n",
       "    </tr>\n",
       "    <tr>\n",
       "      <th>108</th>\n",
       "      <td>1983-01-01 18:00:00</td>\n",
       "      <td>0.0</td>\n",
       "    </tr>\n",
       "    <tr>\n",
       "      <th>144</th>\n",
       "      <td>1983-01-02 00:00:00</td>\n",
       "      <td>0.0</td>\n",
       "    </tr>\n",
       "    <tr>\n",
       "      <th>...</th>\n",
       "      <td>...</td>\n",
       "      <td>...</td>\n",
       "    </tr>\n",
       "    <tr>\n",
       "      <th>1945836</th>\n",
       "      <td>2019-12-30 18:00:00</td>\n",
       "      <td>0.0</td>\n",
       "    </tr>\n",
       "    <tr>\n",
       "      <th>1945872</th>\n",
       "      <td>2019-12-31 00:00:00</td>\n",
       "      <td>0.0</td>\n",
       "    </tr>\n",
       "    <tr>\n",
       "      <th>1945908</th>\n",
       "      <td>2019-12-31 06:00:00</td>\n",
       "      <td>0.0</td>\n",
       "    </tr>\n",
       "    <tr>\n",
       "      <th>1945944</th>\n",
       "      <td>2019-12-31 12:00:00</td>\n",
       "      <td>0.0</td>\n",
       "    </tr>\n",
       "    <tr>\n",
       "      <th>1945980</th>\n",
       "      <td>2019-12-31 18:00:00</td>\n",
       "      <td>0.0</td>\n",
       "    </tr>\n",
       "  </tbody>\n",
       "</table>\n",
       "<p>54056 rows × 2 columns</p>\n",
       "</div>"
      ],
      "text/plain": [
       "                       date  Foehn\n",
       "0       1983-01-01 00:00:00    0.0\n",
       "36      1983-01-01 06:00:00    0.0\n",
       "72      1983-01-01 12:00:00    0.0\n",
       "108     1983-01-01 18:00:00    0.0\n",
       "144     1983-01-02 00:00:00    0.0\n",
       "...                     ...    ...\n",
       "1945836 2019-12-30 18:00:00    0.0\n",
       "1945872 2019-12-31 00:00:00    0.0\n",
       "1945908 2019-12-31 06:00:00    0.0\n",
       "1945944 2019-12-31 12:00:00    0.0\n",
       "1945980 2019-12-31 18:00:00    0.0\n",
       "\n",
       "[54056 rows x 2 columns]"
      ]
     },
     "metadata": {},
     "output_type": "display_data"
    }
   ],
   "source": [
    "df_foehn = generate_aggregated_timeseries(df_1983_2019).reset_index(drop=True)"
   ]
  },
  {
   "cell_type": "markdown",
   "metadata": {},
   "source": [
    "# Investigate data"
   ]
  },
  {
   "cell_type": "code",
   "execution_count": null,
   "metadata": {},
   "outputs": [],
   "source": [
    "calculate_foehn_length(df_1983_2019.reset_index(drop=True))"
   ]
  },
  {
   "cell_type": "code",
   "execution_count": 11,
   "metadata": {},
   "outputs": [
    {
     "name": "stdout",
     "output_type": "stream",
     "text": [
      "Saved figure at: /net/litho/atmosdyn2/chmony/develop/FoehnDevelopment/figures/foehn_climatology_LUG.pdf\n"
     ]
    },
    {
     "data": {
      "image/png": "[encoded data removed]",
      "text/plain": [
       "<Figure size 1152x648 with 1 Axes>"
      ]
     },
     "metadata": {},
     "output_type": "display_data"
    }
   ],
   "source": [
    "plot_monthly_foehn_distribution(df_1983_2019, location=location)"
   ]
  },
  {
   "cell_type": "markdown",
   "metadata": {},
   "source": [
    "# Write output"
   ]
  },
  {
   "cell_type": "code",
   "execution_count": 12,
   "metadata": {},
   "outputs": [],
   "source": [
    "df_foehn.to_csv(os.path.join(BASE_DIR, f\"data/FoehnData/{location}_foehn.csv\"), index=False)"
   ]
  },
  {
   "cell_type": "markdown",
   "metadata": {},
   "source": [
    "# Make combined dataframe of ERAI and foehn data"
   ]
  },
  {
   "cell_type": "code",
   "execution_count": 17,
   "metadata": {},
   "outputs": [],
   "source": [
    "df_ERA = pd.read_csv(os.path.join(BASE_DIR, \"data/MeteorologicalData/ERAI_data.csv.gz\"), parse_dates=[\"date\"])\n",
    "df_foehn = df_foehn.dropna()  # Drop missing values\n",
    "df_ERA_merged = pd.merge(df_foehn, df_ERA, on=\"date\", how=\"inner\")  # Merge where both dataframes have non-missing values\n",
    "df_ERA_merged.to_csv(os.path.join(BASE_DIR, f\"data/FoehnAndMeteorologicalData/ERAI_and_{location}_data.csv.gz\"), index=False)"
   ]
  }
 ],
 "metadata": {
  "kernelspec": {
   "display_name": "Python 3",
   "language": "python",
   "name": "python3"
  },
  "language_info": {
   "codemirror_mode": {
    "name": "ipython",
    "version": 3
   },
   "file_extension": ".py",
   "mimetype": "text/x-python",
   "name": "python",
   "nbconvert_exporter": "python",
   "pygments_lexer": "ipython3",
   "version": "3.8.5"
  }
 },
 "nbformat": 4,
 "nbformat_minor": 4
}
