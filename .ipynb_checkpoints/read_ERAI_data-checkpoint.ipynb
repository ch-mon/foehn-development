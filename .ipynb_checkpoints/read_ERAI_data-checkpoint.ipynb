{
 "cells": [
  {
   "cell_type": "markdown",
   "metadata": {},
   "source": [
    "# Import packages"
   ]
  },
  {
   "cell_type": "code",
   "execution_count": 1,
   "metadata": {
    "scrolled": true
   },
   "outputs": [],
   "source": [
    "import pandas as pd, numpy as np\n",
    "import dypy.netcdf as dn\n",
    "import dypy.intergrid as ig\n",
    "import os\n",
    "import re\n",
    "from constants import *"
   ]
  },
  {
   "cell_type": "markdown",
   "metadata": {},
   "source": [
    "# Define local constants"
   ]
  },
  {
   "cell_type": "code",
   "execution_count": 2,
   "metadata": {},
   "outputs": [],
   "source": [
    "INDEX_ERA = np.s_[:, :, (LAT_MIN_ERA+90):(LAT_MAX_ERA+90+1),(180+LON_MIN_ERA):(180+LON_MAX_ERA+1)]\n",
    "\n",
    "SOUTH_WEST_POINT = np.array([LAT_MIN_ERA, LON_MIN_ERA])\n",
    "NORTH_EAST_POINT = np.array([LAT_MAX_ERA, LON_MAX_ERA])\n",
    "\n",
    "QUERY_POINTS = [[lat, lon] for lat in LATS_CESM for lon in LONS_CESM]\n",
    "QUERY_POINTS_LABELS = [[str(int(100*query_point[0])), str(int(100*query_point[1]))] for query_point in QUERY_POINTS]"
   ]
  },
  {
   "cell_type": "markdown",
   "metadata": {},
   "source": [
    "# Define functions"
   ]
  },
  {
   "cell_type": "code",
   "execution_count": 3,
   "metadata": {},
   "outputs": [],
   "source": [
    "def get_interpolated_variables(grid_values, index_level):\n",
    "    grid_values_cut = grid_values[index_level]\n",
    "    interfunc = ig.Intergrid(grid_values_cut, lo=SOUTH_WEST_POINT, hi=NORTH_EAST_POINT, verbose = False)\n",
    "    return interfunc(QUERY_POINTS) "
   ]
  },
  {
   "cell_type": "markdown",
   "metadata": {},
   "source": [
    "# Recursively get all relevant file paths"
   ]
  },
  {
   "cell_type": "code",
   "execution_count": 4,
   "metadata": {},
   "outputs": [
    {
     "name": "stdout",
     "output_type": "stream",
     "text": [
      "57952\n"
     ]
    }
   ],
   "source": [
    "rootdir = \"/net/bio/atmosdyn/erainterim/cdf/\"\n",
    "relevant_file_paths = []\n",
    "for root, subdirs, files in os.walk(rootdir):\n",
    "    if len(root.split(\"/\")) == 8:\n",
    "        if (root.split(\"/\")[6] != \"1979\"):\n",
    "            regex = re.compile('P\\w+')\n",
    "            relevant_file_paths_local = [os.path.join(root, netcdf_file) for netcdf_file in files if regex.match(netcdf_file) ]\n",
    "            relevant_file_paths.extend(relevant_file_paths_local)\n",
    "print(len(relevant_file_paths))"
   ]
  },
  {
   "cell_type": "markdown",
   "metadata": {},
   "source": [
    "# Read in all relevant ERAI files"
   ]
  },
  {
   "cell_type": "code",
   "execution_count": 5,
   "metadata": {},
   "outputs": [
    {
     "name": "stdout",
     "output_type": "stream",
     "text": [
      "1769\n"
     ]
    }
   ],
   "source": [
    "feature_list_names =[\"date\"]\n",
    "feature_list_names.extend([f\"SLP_{query_point[0]}_{query_point[1]}_sealevel\" for query_point in QUERY_POINTS_LABELS])\n",
    "feature_list_names.extend([f\"T_{query_point[0]}_{query_point[1]}_900\" for query_point in QUERY_POINTS_LABELS])\n",
    "for pressure_level in [\"850\", \"700\", \"500\"]:\n",
    "    for variable in ['Z','T','Q','U','V']:\n",
    "        feature_list_names.extend([f\"{variable}_{query_point[0]}_{query_point[1]}_{pressure_level}\" for query_point in QUERY_POINTS_LABELS])\n",
    "print(len(feature_list_names))"
   ]
  },
  {
   "cell_type": "code",
   "execution_count": null,
   "metadata": {},
   "outputs": [
    {
     "name": "stdout",
     "output_type": "stream",
     "text": [
      "0.02591800110436223557\r"
     ]
    }
   ],
   "source": [
    "rows_list=[]\n",
    "for file_path in relevant_file_paths:\n",
    "    print(len(rows_list)/len(relevant_file_paths), end=\"\\r\", flush=True)\n",
    "    feature_list = [file_path[-11:]] # Get datetime string\n",
    "\n",
    "    SLP, = dn.read_var(file_path, ['SLP'], index=INDEX_ERA)\n",
    "\n",
    "    feature_list.extend(get_interpolated_variables(grid_values=np.expand_dims(SLP,0), index_level=0))\n",
    "\n",
    "    # Switch to corresponding Z file\n",
    "    file_path = file_path.replace(\"P\", \"Z\")\n",
    "\n",
    "    Z,T,Q,U,V = dn.read_var(file_path, ['Z','T','Q','U','V'], index=INDEX_ERA)\n",
    "    \n",
    "    feature_list.extend(get_interpolated_variables(grid_values=T, index_level=0))\n",
    "\n",
    "    for index, pressure_level in {1: \"850\", 3: \"700\", 5: \"500\"}.items():\n",
    "\n",
    "        feature_list.extend(get_interpolated_variables(grid_values=Z, index_level=index))\n",
    "        feature_list.extend(get_interpolated_variables(grid_values=T, index_level=index))\n",
    "        feature_list.extend(get_interpolated_variables(grid_values=Q, index_level=index))\n",
    "        feature_list.extend(get_interpolated_variables(grid_values=U, index_level=index))\n",
    "        feature_list.extend(get_interpolated_variables(grid_values=V, index_level=index))\n",
    "\n",
    "    rows_list.append(feature_list)"
   ]
  },
  {
   "cell_type": "code",
   "execution_count": null,
   "metadata": {},
   "outputs": [],
   "source": [
    "df = pd.DataFrame(rows_list, columns=feature_list_names)\n",
    "df[\"date\"] = pd.to_datetime(df[\"date\"], format=\"%Y%m%d_%H\")\n",
    "print(df.shape)\n",
    "df.head()"
   ]
  },
  {
   "cell_type": "code",
   "execution_count": null,
   "metadata": {},
   "outputs": [],
   "source": [
    "# Write recipe outputs\n",
    "df.to_csv(\"/net/litho/atmosdyn2/chmony/data/MeteorologicalData/ERAI_data.csv.gz\", index=False)"
   ]
  }
 ],
 "metadata": {
  "kernelspec": {
   "display_name": "Python 3",
   "language": "python",
   "name": "python3"
  },
  "language_info": {
   "codemirror_mode": {
    "name": "ipython",
    "version": 3
   },
   "file_extension": ".py",
   "mimetype": "text/x-python",
   "name": "python",
   "nbconvert_exporter": "python",
   "pygments_lexer": "ipython3",
   "version": "3.7.6"
  }
 },
 "nbformat": 4,
 "nbformat_minor": 4
}
